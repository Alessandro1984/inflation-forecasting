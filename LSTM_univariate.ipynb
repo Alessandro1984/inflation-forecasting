{
 "cells": [
  {
   "cell_type": "code",
   "execution_count": 1,
   "id": "aaa0d328",
   "metadata": {},
   "outputs": [
    {
     "name": "stderr",
     "output_type": "stream",
     "text": [
      "2023-03-10 12:15:01.705348: I tensorflow/core/platform/cpu_feature_guard.cc:193] This TensorFlow binary is optimized with oneAPI Deep Neural Network Library (oneDNN) to use the following CPU instructions in performance-critical operations:  AVX2 AVX512F AVX512_VNNI FMA\n",
      "To enable them in other operations, rebuild TensorFlow with the appropriate compiler flags.\n",
      "2023-03-10 12:15:01.808125: I tensorflow/core/util/port.cc:104] oneDNN custom operations are on. You may see slightly different numerical results due to floating-point round-off errors from different computation orders. To turn them off, set the environment variable `TF_ENABLE_ONEDNN_OPTS=0`.\n",
      "2023-03-10 12:15:01.812815: W tensorflow/compiler/xla/stream_executor/platform/default/dso_loader.cc:64] Could not load dynamic library 'libcudart.so.11.0'; dlerror: libcudart.so.11.0: cannot open shared object file: No such file or directory\n",
      "2023-03-10 12:15:01.812829: I tensorflow/compiler/xla/stream_executor/cuda/cudart_stub.cc:29] Ignore above cudart dlerror if you do not have a GPU set up on your machine.\n",
      "2023-03-10 12:15:02.497442: W tensorflow/compiler/xla/stream_executor/platform/default/dso_loader.cc:64] Could not load dynamic library 'libnvinfer.so.7'; dlerror: libnvinfer.so.7: cannot open shared object file: No such file or directory\n",
      "2023-03-10 12:15:02.497514: W tensorflow/compiler/xla/stream_executor/platform/default/dso_loader.cc:64] Could not load dynamic library 'libnvinfer_plugin.so.7'; dlerror: libnvinfer_plugin.so.7: cannot open shared object file: No such file or directory\n",
      "2023-03-10 12:15:02.497519: W tensorflow/compiler/tf2tensorrt/utils/py_utils.cc:38] TF-TRT Warning: Cannot dlopen some TensorRT libraries. If you would like to use Nvidia GPU with TensorRT, please make sure the missing libraries mentioned above are installed properly.\n"
     ]
    }
   ],
   "source": [
    "# Data manipulation\n",
    "import numpy as np\n",
    "import pandas as pd\n",
    "pd.set_option(\"display.max_columns\", None)\n",
    "\n",
    "# Data Visualiation\n",
    "import matplotlib.pyplot as plt\n",
    "import seaborn as sns\n",
    "\n",
    "# System\n",
    "import os\n",
    "import warnings\n",
    "warnings.filterwarnings('ignore')\n",
    "\n",
    "# Deep Learning\n",
    "import tensorflow as tf\n",
    "\n",
    "# Dealing with temporal data\n",
    "from typing import Dict, List, Tuple, Sequence\n",
    "\n",
    "# Tensorflow\n",
    "from tensorflow.keras import models\n",
    "from tensorflow.keras import layers\n",
    "from tensorflow.keras import optimizers, metrics\n",
    "from tensorflow.keras.regularizers import L1L2\n",
    "from tensorflow.keras.layers.experimental.preprocessing import Normalization\n",
    "from tensorflow.keras.models import Sequential\n",
    "from keras.layers import Dense\n",
    "from keras.layers import LSTM\n",
    "from keras.layers import Dropout\n",
    "from keras.callbacks import EarlyStopping"
   ]
  },
  {
   "cell_type": "code",
   "execution_count": 29,
   "id": "20967ea2",
   "metadata": {},
   "outputs": [],
   "source": [
    "os.getcwd()\n",
    "\n",
    "csv_path = os.path.join('..', 'inflation-forecasting', 'raw_data')\n",
    "\n",
    "df = pd.read_csv(os.path.join(csv_path,'data_final.csv'), index_col=0)"
   ]
  },
  {
   "cell_type": "code",
   "execution_count": 30,
   "id": "3cd936f7",
   "metadata": {},
   "outputs": [],
   "source": [
    "df['year'] = pd.to_datetime(df['year'])"
   ]
  },
  {
   "cell_type": "code",
   "execution_count": 33,
   "id": "cfe94c29",
   "metadata": {},
   "outputs": [],
   "source": [
    "df_us = df[df['country_id'] == \"USA\"]"
   ]
  },
  {
   "cell_type": "code",
   "execution_count": 34,
   "id": "a1d3bcb8",
   "metadata": {},
   "outputs": [
    {
     "data": {
      "text/plain": [
       "(757, 10)"
      ]
     },
     "execution_count": 34,
     "metadata": {},
     "output_type": "execute_result"
    }
   ],
   "source": [
    "df_us.shape"
   ]
  },
  {
   "cell_type": "code",
   "execution_count": 35,
   "id": "dac04284",
   "metadata": {},
   "outputs": [],
   "source": [
    "ccpi = pd.DataFrame(df_us['ccpi'])"
   ]
  },
  {
   "cell_type": "code",
   "execution_count": 36,
   "id": "ed24fc87",
   "metadata": {},
   "outputs": [],
   "source": [
    "ccpi = ccpi.to_numpy()"
   ]
  },
  {
   "cell_type": "code",
   "execution_count": 37,
   "id": "12ee2b7b",
   "metadata": {},
   "outputs": [],
   "source": [
    "from sklearn.preprocessing import MinMaxScaler\n",
    "scaler = MinMaxScaler(feature_range=(0, 1))\n",
    "dataset = scaler.fit_transform(ccpi.reshape(-1,1))"
   ]
  },
  {
   "cell_type": "code",
   "execution_count": 38,
   "id": "e94ebf62",
   "metadata": {},
   "outputs": [],
   "source": [
    "def split_sequence(sequence, n_steps):\n",
    "    X, y = list(), list()\n",
    "    for i in range(len(sequence)):\n",
    "        # find the end of this pattern\n",
    "        end_ix = i + n_steps\n",
    "        # check if we are beyond the sequence\n",
    "        if end_ix > len(sequence)-1:\n",
    "            break\n",
    "        # gather input and output parts of the pattern\n",
    "        seq_x, seq_y = sequence[i:end_ix], sequence[end_ix]\n",
    "        X.append(seq_x)\n",
    "        y.append(seq_y)\n",
    "    return np.array(X), np.array(y)"
   ]
  },
  {
   "cell_type": "code",
   "execution_count": 39,
   "id": "c94fbdc9",
   "metadata": {},
   "outputs": [],
   "source": [
    "n_steps_in = 12\n",
    "\n",
    "data = dataset[0:]\n",
    "\n",
    "X, Y = split_sequence(data, n_steps_in)"
   ]
  },
  {
   "cell_type": "code",
   "execution_count": 40,
   "id": "e466bc3c",
   "metadata": {},
   "outputs": [
    {
     "data": {
      "text/plain": [
       "(745, 12, 1)"
      ]
     },
     "execution_count": 40,
     "metadata": {},
     "output_type": "execute_result"
    }
   ],
   "source": [
    "X.shape"
   ]
  },
  {
   "cell_type": "code",
   "execution_count": 41,
   "id": "836ea610",
   "metadata": {},
   "outputs": [],
   "source": [
    "n_features = X.shape[2]\n",
    "\n",
    "uni_model = models.Sequential()\n",
    "uni_model.add(LSTM(64, input_shape=(X.shape[1], n_features))) # Adding the LSTM layer\n",
    "uni_model.add(Dense(1))"
   ]
  },
  {
   "cell_type": "code",
   "execution_count": 42,
   "id": "fe739f84",
   "metadata": {},
   "outputs": [],
   "source": [
    "adam = optimizers.Adam(learning_rate=0.02) \n",
    "\n",
    "uni_model.compile(loss='mse', \n",
    "                  optimizer=adam, \n",
    "                  metrics=[\"mse\"])"
   ]
  },
  {
   "cell_type": "code",
   "execution_count": 43,
   "id": "e2664b32",
   "metadata": {},
   "outputs": [
    {
     "name": "stdout",
     "output_type": "stream",
     "text": [
      "Epoch 1/25\n",
      "745/745 [==============================] - 3s 3ms/step - loss: 0.0031 - mse: 0.0031\n",
      "Epoch 2/25\n",
      "745/745 [==============================] - 2s 3ms/step - loss: 0.0011 - mse: 0.0011\n",
      "Epoch 3/25\n",
      "745/745 [==============================] - 2s 3ms/step - loss: 0.0016 - mse: 0.0016\n",
      "Epoch 4/25\n",
      "745/745 [==============================] - 2s 3ms/step - loss: 0.0010 - mse: 0.0010  \n",
      "Epoch 5/25\n",
      "745/745 [==============================] - 2s 3ms/step - loss: 9.5596e-04 - mse: 9.5596e-04\n",
      "Epoch 6/25\n",
      "745/745 [==============================] - 2s 3ms/step - loss: 9.9294e-04 - mse: 9.9294e-04\n",
      "Epoch 7/25\n",
      "745/745 [==============================] - 2s 3ms/step - loss: 8.9995e-04 - mse: 8.9995e-04\n",
      "Epoch 8/25\n",
      "745/745 [==============================] - 2s 3ms/step - loss: 0.0011 - mse: 0.0011   \n",
      "Epoch 9/25\n",
      "745/745 [==============================] - 2s 3ms/step - loss: 8.2213e-04 - mse: 8.2213e-04\n",
      "Epoch 10/25\n",
      "745/745 [==============================] - 2s 3ms/step - loss: 8.6506e-04 - mse: 8.6506e-04\n",
      "Epoch 11/25\n",
      "745/745 [==============================] - 2s 3ms/step - loss: 7.1450e-04 - mse: 7.1450e-04\n",
      "Epoch 12/25\n",
      "745/745 [==============================] - 2s 3ms/step - loss: 6.9176e-04 - mse: 6.9176e-04\n",
      "Epoch 13/25\n",
      "745/745 [==============================] - 2s 3ms/step - loss: 0.0011 - mse: 0.0011\n",
      "Epoch 14/25\n",
      "745/745 [==============================] - 2s 3ms/step - loss: 9.0542e-04 - mse: 9.0542e-04\n",
      "Epoch 15/25\n",
      "745/745 [==============================] - 2s 3ms/step - loss: 7.3889e-04 - mse: 7.3889e-04\n",
      "Epoch 16/25\n",
      "745/745 [==============================] - 2s 3ms/step - loss: 7.7860e-04 - mse: 7.7860e-04\n",
      "Epoch 17/25\n",
      "745/745 [==============================] - 2s 3ms/step - loss: 8.4886e-04 - mse: 8.4886e-04\n",
      "Epoch 18/25\n",
      "745/745 [==============================] - 2s 3ms/step - loss: 7.1441e-04 - mse: 7.1441e-04\n",
      "Epoch 19/25\n",
      "745/745 [==============================] - 2s 3ms/step - loss: 0.0012 - mse: 0.0012\n",
      "Epoch 20/25\n",
      "745/745 [==============================] - 2s 3ms/step - loss: 7.5246e-04 - mse: 7.5246e-04\n",
      "Epoch 21/25\n",
      "745/745 [==============================] - 2s 3ms/step - loss: 6.6105e-04 - mse: 6.6105e-04\n",
      "Epoch 22/25\n",
      "745/745 [==============================] - 2s 3ms/step - loss: 7.4554e-04 - mse: 7.4554e-04\n",
      "Epoch 23/25\n",
      "745/745 [==============================] - 2s 3ms/step - loss: 7.0090e-04 - mse: 7.0090e-04\n",
      "Epoch 24/25\n",
      "745/745 [==============================] - 2s 3ms/step - loss: 5.9208e-04 - mse: 5.9208e-04\n",
      "Epoch 25/25\n",
      "745/745 [==============================] - 2s 3ms/step - loss: 6.3128e-04 - mse: 6.3128e-04\n"
     ]
    }
   ],
   "source": [
    "fit = uni_model.fit(X, \n",
    "                    Y,   \n",
    "                    epochs = 25, \n",
    "                    batch_size=1,\n",
    "                    verbose = 1)"
   ]
  },
  {
   "cell_type": "code",
   "execution_count": 44,
   "id": "265b2817",
   "metadata": {},
   "outputs": [
    {
     "data": {
      "text/plain": [
       "<function matplotlib.pyplot.show(close=None, block=None)>"
      ]
     },
     "execution_count": 44,
     "metadata": {},
     "output_type": "execute_result"
    },
    {
     "data": {
      "image/png": "[encoded data removed]",
      "text/plain": [
       "<Figure size 640x480 with 1 Axes>"
      ]
     },
     "metadata": {},
     "output_type": "display_data"
    }
   ],
   "source": [
    "# Check for overfitting\n",
    "plt.plot(fit.history['loss'], label = 'training', color = 'Blue')\n",
    "#plt.plot(fit.history['val_loss'], label = 'validation', color = 'Red')\n",
    "plt.legend()\n",
    "plt.show"
   ]
  },
  {
   "cell_type": "code",
   "execution_count": 45,
   "id": "bc8ed2ed",
   "metadata": {},
   "outputs": [
    {
     "data": {
      "text/plain": [
       "(745, 12, 1)"
      ]
     },
     "execution_count": 45,
     "metadata": {},
     "output_type": "execute_result"
    }
   ],
   "source": [
    "X.shape"
   ]
  },
  {
   "cell_type": "code",
   "execution_count": 46,
   "id": "ac952659",
   "metadata": {},
   "outputs": [
    {
     "name": "stdout",
     "output_type": "stream",
     "text": [
      "24/24 [==============================] - 0s 2ms/step\n"
     ]
    }
   ],
   "source": [
    "Predict = uni_model.predict(X)\n",
    "\n",
    "Y_hat = scaler.inverse_transform(Predict)\n",
    "\n",
    "Y_actual = scaler.inverse_transform(Y)\n",
    "\n"
   ]
  },
  {
   "cell_type": "code",
   "execution_count": 47,
   "id": "e9fe2504",
   "metadata": {},
   "outputs": [],
   "source": [
    "data1 = pd.DataFrame(Y_actual)\n",
    "data2 = pd.DataFrame(Y_hat)"
   ]
  },
  {
   "cell_type": "code",
   "execution_count": 48,
   "id": "1e4d9288",
   "metadata": {},
   "outputs": [
    {
     "data": {
      "image/png": "[encoded data removed]",
      "text/plain": [
       "<Figure size 640x480 with 1 Axes>"
      ]
     },
     "metadata": {},
     "output_type": "display_data"
    }
   ],
   "source": [
    "plt.plot(data1)\n",
    "plt.plot(data2);"
   ]
  },
  {
   "cell_type": "code",
   "execution_count": 21,
   "id": "ac1080f7",
   "metadata": {},
   "outputs": [],
   "source": [
    "from sklearn.metrics import mean_squared_error"
   ]
  },
  {
   "cell_type": "code",
   "execution_count": 22,
   "id": "d5a07f30",
   "metadata": {},
   "outputs": [
    {
     "name": "stdout",
     "output_type": "stream",
     "text": [
      "Train Score: 0.08 MSE\n",
      "Test Score: 0.33 MSE\n",
      "Mean Model Error:  0.03589827897756006\n"
     ]
    }
   ],
   "source": [
    "trainScore = mean_squared_error(Ytrain_actual, Ytrain_hat[:,0])\n",
    "print('Train Score: %.2f MSE' % (trainScore))\n",
    "testScore = mean_squared_error(Ytest_actual, Ytest_hat[:,0])\n",
    "print('Test Score: %.2f MSE' % (testScore))\n",
    "model_error = Ytest_actual - Ytest_hat[:,0]\n",
    "print('Mean Model Error: ', model_error.mean())"
   ]
  },
  {
   "cell_type": "code",
   "execution_count": 49,
   "id": "72eadc71",
   "metadata": {},
   "outputs": [
    {
     "name": "stdout",
     "output_type": "stream",
     "text": [
      "1/1 [==============================] - 0s 14ms/step\n"
     ]
    }
   ],
   "source": [
    "n_steps_in = 12\n",
    "x_input = np.array(dataset[-12:])\n",
    "x_input = x_input.reshape((1, n_steps_in, n_features))\n",
    "forecast_normalized = uni_model.predict(x_input)\n",
    "forecast = scaler.inverse_transform(forecast_normalized)"
   ]
  },
  {
   "cell_type": "code",
   "execution_count": 50,
   "id": "277c9661",
   "metadata": {},
   "outputs": [
    {
     "data": {
      "text/html": [
       "<div>\n",
       "<style scoped>\n",
       "    .dataframe tbody tr th:only-of-type {\n",
       "        vertical-align: middle;\n",
       "    }\n",
       "\n",
       "    .dataframe tbody tr th {\n",
       "        vertical-align: top;\n",
       "    }\n",
       "\n",
       "    .dataframe thead th {\n",
       "        text-align: right;\n",
       "    }\n",
       "</style>\n",
       "<table border=\"1\" class=\"dataframe\">\n",
       "  <thead>\n",
       "    <tr style=\"text-align: right;\">\n",
       "      <th></th>\n",
       "      <th>0</th>\n",
       "    </tr>\n",
       "  </thead>\n",
       "  <tbody>\n",
       "    <tr>\n",
       "      <th>0</th>\n",
       "      <td>5.470653</td>\n",
       "    </tr>\n",
       "  </tbody>\n",
       "</table>\n",
       "</div>"
      ],
      "text/plain": [
       "          0\n",
       "0  5.470653"
      ]
     },
     "execution_count": 50,
     "metadata": {},
     "output_type": "execute_result"
    }
   ],
   "source": [
    "pd.DataFrame(forecast)"
   ]
  },
  {
   "cell_type": "code",
   "execution_count": 29,
   "id": "e54d0141",
   "metadata": {},
   "outputs": [],
   "source": [
    "# Make a prediction\n",
    "# Append the predition\n",
    "# Shift the data\n",
    "# Fit the model again\n",
    "# Repeat ...\n",
    "# Normalize invert"
   ]
  }
 ],
 "metadata": {
  "kernelspec": {
   "display_name": "Python 3 (ipykernel)",
   "language": "python",
   "name": "python3"
  },
  "language_info": {
   "codemirror_mode": {
    "name": "ipython",
    "version": 3
   },
   "file_extension": ".py",
   "mimetype": "text/x-python",
   "name": "python",
   "nbconvert_exporter": "python",
   "pygments_lexer": "ipython3",
   "version": "3.10.6"
  },
  "toc": {
   "base_numbering": 1,
   "nav_menu": {},
   "number_sections": true,
   "sideBar": true,
   "skip_h1_title": false,
   "title_cell": "Table of Contents",
   "title_sidebar": "Contents",
   "toc_cell": false,
   "toc_position": {},
   "toc_section_display": true,
   "toc_window_display": false
  }
 },
 "nbformat": 4,
 "nbformat_minor": 5
}
