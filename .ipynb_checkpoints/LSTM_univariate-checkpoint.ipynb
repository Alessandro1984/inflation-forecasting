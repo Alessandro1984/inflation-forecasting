{
 "cells": [
  {
   "cell_type": "markdown",
   "id": "9faf93cc",
   "metadata": {},
   "source": [
    "# !!!NOTE!!! Every time the model is trained it will produced a difference forecast. So no need to save the model again :)"
   ]
  },
  {
   "cell_type": "code",
   "execution_count": 1,
   "id": "aaa0d328",
   "metadata": {},
   "outputs": [
    {
     "name": "stderr",
     "output_type": "stream",
     "text": [
      "2023-03-13 10:11:32.184438: I tensorflow/core/platform/cpu_feature_guard.cc:193] This TensorFlow binary is optimized with oneAPI Deep Neural Network Library (oneDNN) to use the following CPU instructions in performance-critical operations:  AVX2 FMA\n",
      "To enable them in other operations, rebuild TensorFlow with the appropriate compiler flags.\n"
     ]
    }
   ],
   "source": [
    "# Data manipulation\n",
    "import numpy as np\n",
    "import pandas as pd\n",
    "pd.set_option(\"display.max_columns\", None)\n",
    "\n",
    "# Data Visualiation\n",
    "import matplotlib.pyplot as plt\n",
    "import seaborn as sns\n",
    "\n",
    "# System\n",
    "import os\n",
    "import warnings\n",
    "warnings.filterwarnings('ignore')\n",
    "\n",
    "# Deep Learning\n",
    "import tensorflow as tf\n",
    "\n",
    "# Dealing with temporal data\n",
    "from typing import Dict, List, Tuple, Sequence\n",
    "\n",
    "# Tensorflow\n",
    "from tensorflow.keras import models\n",
    "from tensorflow.keras import layers\n",
    "from tensorflow.keras import optimizers, metrics\n",
    "from tensorflow.keras.regularizers import L1L2\n",
    "from tensorflow.keras.layers.experimental.preprocessing import Normalization\n",
    "from tensorflow.keras.models import Sequential\n",
    "from keras.layers import Dense\n",
    "from keras.layers import LSTM\n",
    "from keras.layers import Dropout\n",
    "from keras.callbacks import EarlyStopping\n",
    "from sklearn.preprocessing import MinMaxScaler\n",
    "from sklearn.metrics import mean_squared_error"
   ]
  },
  {
   "cell_type": "code",
   "execution_count": 2,
   "id": "20967ea2",
   "metadata": {},
   "outputs": [],
   "source": [
    "os.getcwd()\n",
    "\n",
    "csv_path = os.path.join('..', 'inflation-forecasting', 'raw_data')\n",
    "\n",
    "df = pd.read_csv(os.path.join(csv_path,'data_final.csv'), index_col=0)"
   ]
  },
  {
   "cell_type": "code",
   "execution_count": 60,
   "id": "3cd936f7",
   "metadata": {},
   "outputs": [],
   "source": [
    "df['year'] = pd.to_datetime(df['year'])"
   ]
  },
  {
   "cell_type": "code",
   "execution_count": 62,
   "id": "cfe94c29",
   "metadata": {},
   "outputs": [],
   "source": [
    "df_us = df[df['country_id'] == \"IT\"]"
   ]
  },
  {
   "cell_type": "code",
   "execution_count": 63,
   "id": "a1d3bcb8",
   "metadata": {},
   "outputs": [
    {
     "data": {
      "text/plain": [
       "(757, 10)"
      ]
     },
     "execution_count": 63,
     "metadata": {},
     "output_type": "execute_result"
    }
   ],
   "source": [
    "df_us.shape"
   ]
  },
  {
   "cell_type": "code",
   "execution_count": 64,
   "id": "dac04284",
   "metadata": {},
   "outputs": [],
   "source": [
    "ccpi = pd.DataFrame(df_us['ccpi'])"
   ]
  },
  {
   "cell_type": "code",
   "execution_count": 65,
   "id": "ed24fc87",
   "metadata": {},
   "outputs": [],
   "source": [
    "ccpi = ccpi.to_numpy()"
   ]
  },
  {
   "cell_type": "code",
   "execution_count": 66,
   "id": "12ee2b7b",
   "metadata": {},
   "outputs": [],
   "source": [
    "scaler = MinMaxScaler(feature_range=(0, 1))\n",
    "dataset = scaler.fit_transform(ccpi.reshape(-1,1))"
   ]
  },
  {
   "cell_type": "code",
   "execution_count": 67,
   "id": "e94ebf62",
   "metadata": {},
   "outputs": [],
   "source": [
    "def split_sequence(sequence, n_steps):\n",
    "    X, y = list(), list()\n",
    "    for i in range(len(sequence)):\n",
    "        # find the end of this pattern\n",
    "        end_ix = i + n_steps\n",
    "        # check if we are beyond the sequence\n",
    "        if end_ix > len(sequence)-1:\n",
    "            break\n",
    "        # gather input and output parts of the pattern\n",
    "        seq_x, seq_y = sequence[i:end_ix], sequence[end_ix]\n",
    "        X.append(seq_x)\n",
    "        y.append(seq_y)\n",
    "    return np.array(X), np.array(y)"
   ]
  },
  {
   "cell_type": "code",
   "execution_count": 68,
   "id": "c94fbdc9",
   "metadata": {},
   "outputs": [],
   "source": [
    "n_steps_in = 12\n",
    "\n",
    "data = dataset[0:]\n",
    "\n",
    "X, Y = split_sequence(data, n_steps_in)"
   ]
  },
  {
   "cell_type": "code",
   "execution_count": 69,
   "id": "e466bc3c",
   "metadata": {},
   "outputs": [
    {
     "data": {
      "text/plain": [
       "(745, 12, 1)"
      ]
     },
     "execution_count": 69,
     "metadata": {},
     "output_type": "execute_result"
    }
   ],
   "source": [
    "X.shape"
   ]
  },
  {
   "cell_type": "code",
   "execution_count": 70,
   "id": "836ea610",
   "metadata": {},
   "outputs": [],
   "source": [
    "n_features = X.shape[2]\n",
    "\n",
    "uni_model = models.Sequential()\n",
    "uni_model.add(LSTM(64,\n",
    "                   activation = 'relu',\n",
    "                   input_shape = (X.shape[1], n_features)))\n",
    "uni_model.add(Dense(1, \n",
    "                    activation='linear'))"
   ]
  },
  {
   "cell_type": "code",
   "execution_count": 71,
   "id": "fe739f84",
   "metadata": {},
   "outputs": [],
   "source": [
    "n_features = X.shape[2]\n",
    "\n",
    "uni_model = models.Sequential()\n",
    "uni_model.add(LSTM(64, input_shape=(X.shape[1], n_features))) # Adding the LSTM layer\n",
    "uni_model.add(Dense(1))"
   ]
  },
  {
   "cell_type": "code",
   "execution_count": 72,
   "id": "e2664b32",
   "metadata": {},
   "outputs": [
    {
     "name": "stdout",
     "output_type": "stream",
     "text": [
      "Epoch 1/25\n",
      "745/745 [==============================] - 3s 3ms/step - loss: 0.0071 - mse: 0.0071\n",
      "Epoch 2/25\n",
      "745/745 [==============================] - 2s 3ms/step - loss: 9.6389e-04 - mse: 9.6389e-04\n",
      "Epoch 3/25\n",
      "745/745 [==============================] - 2s 3ms/step - loss: 0.0014 - mse: 0.0014\n",
      "Epoch 4/25\n",
      "745/745 [==============================] - 2s 3ms/step - loss: 7.3524e-04 - mse: 7.3524e-04\n",
      "Epoch 5/25\n",
      "745/745 [==============================] - 2s 3ms/step - loss: 8.6091e-04 - mse: 8.6091e-04\n",
      "Epoch 6/25\n",
      "745/745 [==============================] - 2s 3ms/step - loss: 9.7350e-04 - mse: 9.7350e-04\n",
      "Epoch 7/25\n",
      "745/745 [==============================] - 2s 3ms/step - loss: 0.0015 - mse: 0.0015 \n",
      "Epoch 8/25\n",
      "745/745 [==============================] - 2s 3ms/step - loss: 0.0013 - mse: 0.0013\n",
      "Epoch 9/25\n",
      "745/745 [==============================] - 2s 3ms/step - loss: 8.6919e-04 - mse: 8.6919e-04\n",
      "Epoch 10/25\n",
      "745/745 [==============================] - 2s 3ms/step - loss: 8.4344e-04 - mse: 8.4344e-04\n",
      "Epoch 11/25\n",
      "745/745 [==============================] - 2s 3ms/step - loss: 7.5236e-04 - mse: 7.5236e-04\n",
      "Epoch 12/25\n",
      "745/745 [==============================] - 2s 3ms/step - loss: 9.4720e-04 - mse: 9.4720e-04\n",
      "Epoch 13/25\n",
      "745/745 [==============================] - 2s 3ms/step - loss: 8.6049e-04 - mse: 8.6049e-04\n",
      "Epoch 14/25\n",
      "745/745 [==============================] - 2s 3ms/step - loss: 7.6818e-04 - mse: 7.6818e-04\n",
      "Epoch 15/25\n",
      "745/745 [==============================] - 2s 3ms/step - loss: 0.0014 - mse: 0.0014\n",
      "Epoch 16/25\n",
      "745/745 [==============================] - 2s 3ms/step - loss: 7.2405e-04 - mse: 7.2405e-04\n",
      "Epoch 17/25\n",
      "745/745 [==============================] - 2s 3ms/step - loss: 8.0117e-04 - mse: 8.0117e-04\n",
      "Epoch 18/25\n",
      "745/745 [==============================] - 2s 3ms/step - loss: 7.3912e-04 - mse: 7.3912e-04\n",
      "Epoch 19/25\n",
      "745/745 [==============================] - 2s 3ms/step - loss: 6.4794e-04 - mse: 6.4794e-04\n",
      "Epoch 20/25\n",
      "745/745 [==============================] - 2s 3ms/step - loss: 7.0031e-04 - mse: 7.0031e-04\n",
      "Epoch 21/25\n",
      "745/745 [==============================] - 2s 3ms/step - loss: 6.9970e-04 - mse: 6.9970e-04\n",
      "Epoch 22/25\n",
      "745/745 [==============================] - 2s 3ms/step - loss: 6.8208e-04 - mse: 6.8208e-04\n",
      "Epoch 23/25\n",
      "745/745 [==============================] - 2s 3ms/step - loss: 6.8136e-04 - mse: 6.8136e-04\n",
      "Epoch 24/25\n",
      "745/745 [==============================] - 2s 3ms/step - loss: 6.2290e-04 - mse: 6.2290e-04\n",
      "Epoch 25/25\n",
      "745/745 [==============================] - 2s 3ms/step - loss: 6.5777e-04 - mse: 6.5777e-04\n"
     ]
    }
   ],
   "source": [
    "adam = optimizers.Adam(learning_rate=0.02) \n",
    "\n",
    "uni_model.compile(loss='mse', \n",
    "                  optimizer=adam, \n",
    "                  metrics=[\"mse\"])\n",
    "\n",
    "fit = uni_model.fit(X, \n",
    "                    Y,   \n",
    "                    epochs = 25, \n",
    "                    batch_size=1,\n",
    "                    verbose = 1)"
   ]
  },
  {
   "cell_type": "code",
   "execution_count": 73,
   "id": "265b2817",
   "metadata": {},
   "outputs": [
    {
     "data": {
      "text/plain": [
       "<function matplotlib.pyplot.show(close=None, block=None)>"
      ]
     },
     "execution_count": 73,
     "metadata": {},
     "output_type": "execute_result"
    },
    {
     "data": {
      "image/png": "[encoded data removed]",
      "text/plain": [
       "<Figure size 640x480 with 1 Axes>"
      ]
     },
     "metadata": {},
     "output_type": "display_data"
    }
   ],
   "source": [
    "# Check for overfitting\n",
    "plt.plot(fit.history['loss'], label = 'training', color = 'Blue')\n",
    "#plt.plot(fit.history['val_loss'], label = 'validation', color = 'Red')\n",
    "plt.legend()\n",
    "plt.show"
   ]
  },
  {
   "cell_type": "code",
   "execution_count": 74,
   "id": "ac952659",
   "metadata": {},
   "outputs": [
    {
     "name": "stdout",
     "output_type": "stream",
     "text": [
      "24/24 [==============================] - 0s 2ms/step\n"
     ]
    }
   ],
   "source": [
    "Predict = uni_model.predict(X)\n",
    "\n",
    "Y_hat = scaler.inverse_transform(Predict)\n",
    "\n",
    "Y_actual = scaler.inverse_transform(Y)"
   ]
  },
  {
   "cell_type": "code",
   "execution_count": 75,
   "id": "e9fe2504",
   "metadata": {},
   "outputs": [],
   "source": [
    "data1 = pd.DataFrame(Y_actual)\n",
    "data2 = pd.DataFrame(Y_hat)"
   ]
  },
  {
   "cell_type": "code",
   "execution_count": 76,
   "id": "1e4d9288",
   "metadata": {},
   "outputs": [
    {
     "data": {
      "image/png": "[encoded data removed]",
      "text/plain": [
       "<Figure size 640x480 with 1 Axes>"
      ]
     },
     "metadata": {},
     "output_type": "display_data"
    }
   ],
   "source": [
    "plt.plot(data1)\n",
    "plt.plot(data2);"
   ]
  },
  {
   "cell_type": "code",
   "execution_count": 77,
   "id": "72eadc71",
   "metadata": {},
   "outputs": [
    {
     "name": "stdout",
     "output_type": "stream",
     "text": [
      "1/1 [==============================] - 0s 15ms/step\n"
     ]
    }
   ],
   "source": [
    "n_steps_in = 12\n",
    "x_input = np.array(dataset[-12:])\n",
    "x_input = x_input.reshape((1, n_steps_in, n_features))\n",
    "forecast_normalized = uni_model.predict(x_input)\n",
    "forecast = scaler.inverse_transform(forecast_normalized)"
   ]
  },
  {
   "cell_type": "code",
   "execution_count": 78,
   "id": "277c9661",
   "metadata": {},
   "outputs": [
    {
     "data": {
      "text/html": [
       "<div>\n",
       "<style scoped>\n",
       "    .dataframe tbody tr th:only-of-type {\n",
       "        vertical-align: middle;\n",
       "    }\n",
       "\n",
       "    .dataframe tbody tr th {\n",
       "        vertical-align: top;\n",
       "    }\n",
       "\n",
       "    .dataframe thead th {\n",
       "        text-align: right;\n",
       "    }\n",
       "</style>\n",
       "<table border=\"1\" class=\"dataframe\">\n",
       "  <thead>\n",
       "    <tr style=\"text-align: right;\">\n",
       "      <th></th>\n",
       "      <th>0</th>\n",
       "    </tr>\n",
       "  </thead>\n",
       "  <tbody>\n",
       "    <tr>\n",
       "      <th>0</th>\n",
       "      <td>5.426178</td>\n",
       "    </tr>\n",
       "  </tbody>\n",
       "</table>\n",
       "</div>"
      ],
      "text/plain": [
       "          0\n",
       "0  5.426178"
      ]
     },
     "execution_count": 78,
     "metadata": {},
     "output_type": "execute_result"
    }
   ],
   "source": [
    "pd.DataFrame(forecast)"
   ]
  },
  {
   "cell_type": "code",
   "execution_count": null,
   "id": "e54d0141",
   "metadata": {},
   "outputs": [],
   "source": [
    "# Make a prediction\n",
    "# Append the predition\n",
    "# Shift the data\n",
    "# Fit the model again\n",
    "# Repeat ...\n",
    "# Normalize invert"
   ]
  },
  {
   "cell_type": "code",
   "execution_count": 79,
   "id": "8c4d2aed",
   "metadata": {},
   "outputs": [],
   "source": [
    "def future_forecasting(dataset, model, mb=12, mf=12):\n",
    "    '''\n",
    "    Returns the future forecasting of the model. Please select the dataset and model you want to use.\n",
    "    for mb, select the number of months you want to look back to make a prediction. \n",
    "    for mf, select the number of months you want the prediction to look forward.\n",
    "    '''\n",
    "    results = []\n",
    "    x_input = dataset[-mb:].reshape(1, mb, 1)\n",
    "    for num in range(mf):\n",
    "        forecast = model.predict(x_input)\n",
    "        results.append(forecast[0][0])\n",
    "        x_input = np.roll(x_input, -1, axis=1)\n",
    "        x_input[0][-1] = forecast\n",
    "    results = scaler.inverse_transform(np.array(results).reshape(-1, 1)) # reshape dataset to 2D array\n",
    "    return results"
   ]
  },
  {
   "cell_type": "code",
   "execution_count": 85,
   "id": "d8252e71",
   "metadata": {
    "scrolled": false
   },
   "outputs": [
    {
     "name": "stdout",
     "output_type": "stream",
     "text": [
      "1/1 [==============================] - 0s 15ms/step\n",
      "1/1 [==============================] - 0s 14ms/step\n",
      "1/1 [==============================] - 0s 14ms/step\n",
      "1/1 [==============================] - 0s 14ms/step\n",
      "1/1 [==============================] - 0s 13ms/step\n",
      "1/1 [==============================] - 0s 14ms/step\n",
      "1/1 [==============================] - 0s 15ms/step\n",
      "1/1 [==============================] - 0s 14ms/step\n",
      "1/1 [==============================] - 0s 13ms/step\n",
      "1/1 [==============================] - 0s 14ms/step\n",
      "1/1 [==============================] - 0s 16ms/step\n",
      "1/1 [==============================] - 0s 15ms/step\n",
      "1/1 [==============================] - 0s 15ms/step\n",
      "1/1 [==============================] - 0s 15ms/step\n",
      "1/1 [==============================] - 0s 14ms/step\n",
      "1/1 [==============================] - 0s 14ms/step\n",
      "1/1 [==============================] - 0s 14ms/step\n",
      "1/1 [==============================] - 0s 14ms/step\n",
      "1/1 [==============================] - 0s 14ms/step\n",
      "1/1 [==============================] - 0s 14ms/step\n",
      "1/1 [==============================] - 0s 14ms/step\n",
      "1/1 [==============================] - 0s 15ms/step\n",
      "1/1 [==============================] - 0s 16ms/step\n",
      "1/1 [==============================] - 0s 15ms/step\n"
     ]
    },
    {
     "data": {
      "text/plain": [
       "array([[5.426178 ],\n",
       "       [5.317832 ],\n",
       "       [5.2164288],\n",
       "       [5.118971 ],\n",
       "       [5.024358 ],\n",
       "       [4.931834 ],\n",
       "       [4.840961 ],\n",
       "       [4.751754 ],\n",
       "       [4.664223 ],\n",
       "       [4.5778675],\n",
       "       [4.49231  ],\n",
       "       [4.40729  ],\n",
       "       [4.3227053],\n",
       "       [4.238522 ],\n",
       "       [4.1547503],\n",
       "       [4.0714307],\n",
       "       [3.988627 ],\n",
       "       [3.9064198],\n",
       "       [3.8249023],\n",
       "       [3.744176 ],\n",
       "       [3.6643474],\n",
       "       [3.5855262],\n",
       "       [3.5078218],\n",
       "       [3.43134  ]], dtype=float32)"
      ]
     },
     "execution_count": 85,
     "metadata": {},
     "output_type": "execute_result"
    }
   ],
   "source": [
    "test = future_forecasting(dataset,uni_model,mb=12,mf=24)\n",
    "test"
   ]
  },
  {
   "cell_type": "code",
   "execution_count": 86,
   "id": "22ffe3f1",
   "metadata": {},
   "outputs": [
    {
     "data": {
      "text/plain": [
       "<Axes: >"
      ]
     },
     "execution_count": 86,
     "metadata": {},
     "output_type": "execute_result"
    },
    {
     "data": {
      "image/png": "[encoded data removed]",
      "text/plain": [
       "<Figure size 640x480 with 1 Axes>"
      ]
     },
     "metadata": {},
     "output_type": "display_data"
    }
   ],
   "source": [
    "pd.DataFrame(test).plot()"
   ]
  },
  {
   "cell_type": "markdown",
   "id": "12cb736c",
   "metadata": {},
   "source": [
    "# Save the model for the US"
   ]
  },
  {
   "cell_type": "code",
   "execution_count": 81,
   "id": "e875aa90",
   "metadata": {},
   "outputs": [],
   "source": [
    "#uni_model.save(\"model_usa.h5\")"
   ]
  }
 ],
 "metadata": {
  "kernelspec": {
   "display_name": "Python 3 (ipykernel)",
   "language": "python",
   "name": "python3"
  },
  "language_info": {
   "codemirror_mode": {
    "name": "ipython",
    "version": 3
   },
   "file_extension": ".py",
   "mimetype": "text/x-python",
   "name": "python",
   "nbconvert_exporter": "python",
   "pygments_lexer": "ipython3",
   "version": "3.10.6"
  },
  "toc": {
   "base_numbering": 1,
   "nav_menu": {},
   "number_sections": true,
   "sideBar": true,
   "skip_h1_title": false,
   "title_cell": "Table of Contents",
   "title_sidebar": "Contents",
   "toc_cell": false,
   "toc_position": {},
   "toc_section_display": true,
   "toc_window_display": false
  }
 },
 "nbformat": 4,
 "nbformat_minor": 5
}
