{
 "cells": [
  {
   "cell_type": "markdown",
   "id": "a16e14ef",
   "metadata": {},
   "source": [
    "# Simple Recurrent Neural Network"
   ]
  },
  {
   "cell_type": "markdown",
   "id": "4d18d2b3",
   "metadata": {},
   "source": [
    "## Import"
   ]
  },
  {
   "cell_type": "code",
   "execution_count": 14,
   "id": "0de79a11",
   "metadata": {},
   "outputs": [],
   "source": [
    "df = pd.read_csv(\"raw_data/data.csv\")"
   ]
  },
  {
   "cell_type": "code",
   "execution_count": 16,
   "id": "3610adaf",
   "metadata": {
    "scrolled": true
   },
   "outputs": [
    {
     "data": {
      "text/html": [
       "<div>\n",
       "<style scoped>\n",
       "    .dataframe tbody tr th:only-of-type {\n",
       "        vertical-align: middle;\n",
       "    }\n",
       "\n",
       "    .dataframe tbody tr th {\n",
       "        vertical-align: top;\n",
       "    }\n",
       "\n",
       "    .dataframe thead th {\n",
       "        text-align: right;\n",
       "    }\n",
       "</style>\n",
       "<table border=\"1\" class=\"dataframe\">\n",
       "  <thead>\n",
       "    <tr style=\"text-align: right;\">\n",
       "      <th></th>\n",
       "      <th>Unnamed: 0</th>\n",
       "      <th>Time</th>\n",
       "      <th>DFF</th>\n",
       "      <th>CPIAUCSL</th>\n",
       "      <th>CPILFESL</th>\n",
       "      <th>UNRATE</th>\n",
       "      <th>WTISPLC</th>\n",
       "      <th>INDPRO</th>\n",
       "      <th>MABMM301USM189S</th>\n",
       "      <th>A576RC1</th>\n",
       "    </tr>\n",
       "  </thead>\n",
       "  <tbody>\n",
       "    <tr>\n",
       "      <th>0</th>\n",
       "      <td>0</td>\n",
       "      <td>1960-01-01</td>\n",
       "      <td>3.99</td>\n",
       "      <td>1.24095</td>\n",
       "      <td>2.00669</td>\n",
       "      <td>5.2</td>\n",
       "      <td>2.97</td>\n",
       "      <td>10.03675</td>\n",
       "      <td>NaN</td>\n",
       "      <td>7.05509</td>\n",
       "    </tr>\n",
       "    <tr>\n",
       "      <th>1</th>\n",
       "      <td>1</td>\n",
       "      <td>1960-02-01</td>\n",
       "      <td>3.97</td>\n",
       "      <td>1.41379</td>\n",
       "      <td>2.34114</td>\n",
       "      <td>4.8</td>\n",
       "      <td>2.97</td>\n",
       "      <td>6.96284</td>\n",
       "      <td>NaN</td>\n",
       "      <td>6.78233</td>\n",
       "    </tr>\n",
       "    <tr>\n",
       "      <th>2</th>\n",
       "      <td>2</td>\n",
       "      <td>1960-03-01</td>\n",
       "      <td>3.84</td>\n",
       "      <td>1.51881</td>\n",
       "      <td>2.00000</td>\n",
       "      <td>5.4</td>\n",
       "      <td>2.97</td>\n",
       "      <td>4.49722</td>\n",
       "      <td>NaN</td>\n",
       "      <td>5.93518</td>\n",
       "    </tr>\n",
       "    <tr>\n",
       "      <th>3</th>\n",
       "      <td>3</td>\n",
       "      <td>1960-04-01</td>\n",
       "      <td>3.92</td>\n",
       "      <td>1.93237</td>\n",
       "      <td>2.00000</td>\n",
       "      <td>5.2</td>\n",
       "      <td>2.97</td>\n",
       "      <td>1.50636</td>\n",
       "      <td>NaN</td>\n",
       "      <td>5.56845</td>\n",
       "    </tr>\n",
       "    <tr>\n",
       "      <th>4</th>\n",
       "      <td>4</td>\n",
       "      <td>1960-05-01</td>\n",
       "      <td>3.85</td>\n",
       "      <td>1.82507</td>\n",
       "      <td>1.66113</td>\n",
       "      <td>5.1</td>\n",
       "      <td>2.97</td>\n",
       "      <td>-0.11438</td>\n",
       "      <td>NaN</td>\n",
       "      <td>4.94632</td>\n",
       "    </tr>\n",
       "  </tbody>\n",
       "</table>\n",
       "</div>"
      ],
      "text/plain": [
       "   Unnamed: 0        Time   DFF  CPIAUCSL  CPILFESL  UNRATE  WTISPLC  \\\n",
       "0           0  1960-01-01  3.99   1.24095   2.00669     5.2     2.97   \n",
       "1           1  1960-02-01  3.97   1.41379   2.34114     4.8     2.97   \n",
       "2           2  1960-03-01  3.84   1.51881   2.00000     5.4     2.97   \n",
       "3           3  1960-04-01  3.92   1.93237   2.00000     5.2     2.97   \n",
       "4           4  1960-05-01  3.85   1.82507   1.66113     5.1     2.97   \n",
       "\n",
       "     INDPRO  MABMM301USM189S  A576RC1  \n",
       "0  10.03675              NaN  7.05509  \n",
       "1   6.96284              NaN  6.78233  \n",
       "2   4.49722              NaN  5.93518  \n",
       "3   1.50636              NaN  5.56845  \n",
       "4  -0.11438              NaN  4.94632  "
      ]
     },
     "execution_count": 16,
     "metadata": {},
     "output_type": "execute_result"
    }
   ],
   "source": [
    "df.head()"
   ]
  },
  {
   "cell_type": "code",
   "execution_count": 22,
   "id": "e617b54e",
   "metadata": {},
   "outputs": [],
   "source": [
    "df = df.drop(\"Unnamed: 0\", axis = 1)"
   ]
  },
  {
   "cell_type": "markdown",
   "id": "c5f21de5",
   "metadata": {},
   "source": [
    "## Exploratory Data Analysis"
   ]
  },
  {
   "cell_type": "code",
   "execution_count": 23,
   "id": "ad440cc3",
   "metadata": {},
   "outputs": [
    {
     "data": {
      "text/html": [
       "<div>\n",
       "<style scoped>\n",
       "    .dataframe tbody tr th:only-of-type {\n",
       "        vertical-align: middle;\n",
       "    }\n",
       "\n",
       "    .dataframe tbody tr th {\n",
       "        vertical-align: top;\n",
       "    }\n",
       "\n",
       "    .dataframe thead th {\n",
       "        text-align: right;\n",
       "    }\n",
       "</style>\n",
       "<table border=\"1\" class=\"dataframe\">\n",
       "  <thead>\n",
       "    <tr style=\"text-align: right;\">\n",
       "      <th></th>\n",
       "      <th>DFF</th>\n",
       "      <th>CPIAUCSL</th>\n",
       "      <th>CPILFESL</th>\n",
       "      <th>UNRATE</th>\n",
       "      <th>WTISPLC</th>\n",
       "      <th>INDPRO</th>\n",
       "      <th>MABMM301USM189S</th>\n",
       "      <th>A576RC1</th>\n",
       "    </tr>\n",
       "  </thead>\n",
       "  <tbody>\n",
       "    <tr>\n",
       "      <th>count</th>\n",
       "      <td>757.000000</td>\n",
       "      <td>757.000000</td>\n",
       "      <td>757.000000</td>\n",
       "      <td>757.000000</td>\n",
       "      <td>757.000000</td>\n",
       "      <td>757.000000</td>\n",
       "      <td>744.000000</td>\n",
       "      <td>757.000000</td>\n",
       "    </tr>\n",
       "    <tr>\n",
       "      <th>mean</th>\n",
       "      <td>4.789736</td>\n",
       "      <td>3.769880</td>\n",
       "      <td>3.713922</td>\n",
       "      <td>5.949802</td>\n",
       "      <td>32.280452</td>\n",
       "      <td>2.552905</td>\n",
       "      <td>7.171975</td>\n",
       "      <td>6.210760</td>\n",
       "    </tr>\n",
       "    <tr>\n",
       "      <th>std</th>\n",
       "      <td>3.697640</td>\n",
       "      <td>2.844571</td>\n",
       "      <td>2.539275</td>\n",
       "      <td>1.683161</td>\n",
       "      <td>29.122856</td>\n",
       "      <td>4.828554</td>\n",
       "      <td>3.583807</td>\n",
       "      <td>3.214712</td>\n",
       "    </tr>\n",
       "    <tr>\n",
       "      <th>min</th>\n",
       "      <td>0.050000</td>\n",
       "      <td>-1.958760</td>\n",
       "      <td>0.602720</td>\n",
       "      <td>3.400000</td>\n",
       "      <td>2.920000</td>\n",
       "      <td>-17.018130</td>\n",
       "      <td>-1.314570</td>\n",
       "      <td>-5.860480</td>\n",
       "    </tr>\n",
       "    <tr>\n",
       "      <th>25%</th>\n",
       "      <td>1.820000</td>\n",
       "      <td>1.759500</td>\n",
       "      <td>1.987720</td>\n",
       "      <td>4.800000</td>\n",
       "      <td>11.160000</td>\n",
       "      <td>0.434140</td>\n",
       "      <td>5.165637</td>\n",
       "      <td>4.372760</td>\n",
       "    </tr>\n",
       "    <tr>\n",
       "      <th>50%</th>\n",
       "      <td>4.680000</td>\n",
       "      <td>3.004570</td>\n",
       "      <td>2.752290</td>\n",
       "      <td>5.700000</td>\n",
       "      <td>21.688000</td>\n",
       "      <td>2.894420</td>\n",
       "      <td>6.896930</td>\n",
       "      <td>6.008130</td>\n",
       "    </tr>\n",
       "    <tr>\n",
       "      <th>75%</th>\n",
       "      <td>6.580000</td>\n",
       "      <td>4.695920</td>\n",
       "      <td>4.732510</td>\n",
       "      <td>7.000000</td>\n",
       "      <td>47.020000</td>\n",
       "      <td>5.578500</td>\n",
       "      <td>8.478320</td>\n",
       "      <td>8.492850</td>\n",
       "    </tr>\n",
       "    <tr>\n",
       "      <th>max</th>\n",
       "      <td>19.100000</td>\n",
       "      <td>14.592270</td>\n",
       "      <td>13.604490</td>\n",
       "      <td>14.700000</td>\n",
       "      <td>133.930000</td>\n",
       "      <td>16.555750</td>\n",
       "      <td>26.887130</td>\n",
       "      <td>14.791160</td>\n",
       "    </tr>\n",
       "  </tbody>\n",
       "</table>\n",
       "</div>"
      ],
      "text/plain": [
       "              DFF    CPIAUCSL    CPILFESL      UNRATE     WTISPLC      INDPRO  \\\n",
       "count  757.000000  757.000000  757.000000  757.000000  757.000000  757.000000   \n",
       "mean     4.789736    3.769880    3.713922    5.949802   32.280452    2.552905   \n",
       "std      3.697640    2.844571    2.539275    1.683161   29.122856    4.828554   \n",
       "min      0.050000   -1.958760    0.602720    3.400000    2.920000  -17.018130   \n",
       "25%      1.820000    1.759500    1.987720    4.800000   11.160000    0.434140   \n",
       "50%      4.680000    3.004570    2.752290    5.700000   21.688000    2.894420   \n",
       "75%      6.580000    4.695920    4.732510    7.000000   47.020000    5.578500   \n",
       "max     19.100000   14.592270   13.604490   14.700000  133.930000   16.555750   \n",
       "\n",
       "       MABMM301USM189S     A576RC1  \n",
       "count       744.000000  757.000000  \n",
       "mean          7.171975    6.210760  \n",
       "std           3.583807    3.214712  \n",
       "min          -1.314570   -5.860480  \n",
       "25%           5.165637    4.372760  \n",
       "50%           6.896930    6.008130  \n",
       "75%           8.478320    8.492850  \n",
       "max          26.887130   14.791160  "
      ]
     },
     "execution_count": 23,
     "metadata": {},
     "output_type": "execute_result"
    }
   ],
   "source": [
    "df.describe()"
   ]
  },
  {
   "cell_type": "code",
   "execution_count": 25,
   "id": "4ed33731",
   "metadata": {},
   "outputs": [
    {
     "data": {
      "text/plain": [
       "Time                object\n",
       "DFF                float64\n",
       "CPIAUCSL           float64\n",
       "CPILFESL           float64\n",
       "UNRATE             float64\n",
       "WTISPLC            float64\n",
       "INDPRO             float64\n",
       "MABMM301USM189S    float64\n",
       "A576RC1            float64\n",
       "dtype: object"
      ]
     },
     "execution_count": 25,
     "metadata": {},
     "output_type": "execute_result"
    }
   ],
   "source": [
    "df.dtypes"
   ]
  },
  {
   "cell_type": "markdown",
   "id": "5178a705",
   "metadata": {},
   "source": [
    "## Data preprocessing"
   ]
  },
  {
   "cell_type": "code",
   "execution_count": 26,
   "id": "f24ca919",
   "metadata": {},
   "outputs": [
    {
     "data": {
      "text/plain": [
       "757"
      ]
     },
     "execution_count": 26,
     "metadata": {},
     "output_type": "execute_result"
    }
   ],
   "source": [
    "#Check length of df bef\n",
    "\n",
    "data.duplicated()ore changing anything\n",
    "len(df)"
   ]
  },
  {
   "cell_type": "code",
   "execution_count": 29,
   "id": "b0fca555",
   "metadata": {},
   "outputs": [
    {
     "data": {
      "text/plain": [
       "0"
      ]
     },
     "execution_count": 29,
     "metadata": {},
     "output_type": "execute_result"
    }
   ],
   "source": [
    "#Check for duplicates\n",
    "df.duplicated().sum()"
   ]
  },
  {
   "cell_type": "code",
   "execution_count": 31,
   "id": "e022cdd7",
   "metadata": {},
   "outputs": [
    {
     "data": {
      "text/plain": [
       "MABMM301USM189S    13\n",
       "Time                0\n",
       "DFF                 0\n",
       "CPIAUCSL            0\n",
       "CPILFESL            0\n",
       "UNRATE              0\n",
       "WTISPLC             0\n",
       "INDPRO              0\n",
       "A576RC1             0\n",
       "dtype: int64"
      ]
     },
     "execution_count": 31,
     "metadata": {},
     "output_type": "execute_result"
    }
   ],
   "source": [
    "#Detecting missing data (Counting the number of NaN for each column)\n",
    "df.isnull().sum().sort_values(ascending=False)"
   ]
  },
  {
   "cell_type": "code",
   "execution_count": null,
   "id": "0dc256f4",
   "metadata": {},
   "outputs": [],
   "source": [
    "#Agreed strategy in the team: "
   ]
  },
  {
   "cell_type": "code",
   "execution_count": null,
   "id": "ca8c6d5f",
   "metadata": {},
   "outputs": [],
   "source": [
    "#Replace missing values\n",
    "from sklearn.impute import SimpleImputer\n",
    "# #Instantiate a SimpleImputer object with your strategy of choice\n",
    "imputer = SimpleImputer(strategy=\"mean\") \n",
    "\n",
    "##Call the \"fit\" method on the object\n",
    "imputer.fit(data[['MABMM301USM189S']]) \n",
    "\n",
    "# Call the \"transform\" method on the object\n",
    "data['MABMM301USM189S'] = imputer.transform(data[['MABMM301USM189S']]) \n",
    "\n",
    "# The mean is stored in the transformer's memory\n",
    "imputer.statistics_ "
   ]
  }
 ],
 "metadata": {
  "kernelspec": {
   "display_name": "Python 3 (ipykernel)",
   "language": "python",
   "name": "python3"
  },
  "language_info": {
   "codemirror_mode": {
    "name": "ipython",
    "version": 3
   },
   "file_extension": ".py",
   "mimetype": "text/x-python",
   "name": "python",
   "nbconvert_exporter": "python",
   "pygments_lexer": "ipython3",
   "version": "3.10.6"
  },
  "toc": {
   "base_numbering": 1,
   "nav_menu": {},
   "number_sections": true,
   "sideBar": true,
   "skip_h1_title": false,
   "title_cell": "Table of Contents",
   "title_sidebar": "Contents",
   "toc_cell": false,
   "toc_position": {},
   "toc_section_display": true,
   "toc_window_display": false
  }
 },
 "nbformat": 4,
 "nbformat_minor": 5
}
