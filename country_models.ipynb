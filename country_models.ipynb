{
 "cells": [
  {
   "cell_type": "markdown",
   "id": "c0614d3b",
   "metadata": {},
   "source": [
    "# Train and save a model for each country"
   ]
  },
  {
   "cell_type": "code",
   "execution_count": null,
   "id": "6de15f35",
   "metadata": {},
   "outputs": [],
   "source": [
    "# https://github.com/bnsreenu/python_for_microscopists/blob/master/181_multivariate_timeseries_LSTM_GE.py"
   ]
  },
  {
   "cell_type": "code",
   "execution_count": 83,
   "id": "93b48792",
   "metadata": {},
   "outputs": [],
   "source": [
    "# Data manipulation\n",
    "import numpy as np\n",
    "import pandas as pd\n",
    "pd.set_option(\"display.max_columns\", None)\n",
    "\n",
    "# Data Visualiation\n",
    "import matplotlib.pyplot as plt\n",
    "import seaborn as sns\n",
    "\n",
    "# System\n",
    "import os\n",
    "import warnings\n",
    "warnings.filterwarnings('ignore')\n",
    "\n",
    "# Deep Learning\n",
    "import tensorflow as tf\n",
    "\n",
    "# Dealing with temporal data\n",
    "from typing import Dict, List, Tuple, Sequence\n",
    "\n",
    "# Tensorflow\n",
    "from tensorflow.keras import models\n",
    "from tensorflow.keras import layers\n",
    "from tensorflow.keras import optimizers, metrics\n",
    "from tensorflow.keras.regularizers import L1L2\n",
    "from tensorflow.keras.layers.experimental.preprocessing import Normalization\n",
    "from tensorflow.keras.models import Sequential\n",
    "from keras.layers import Dense\n",
    "from keras.layers import LSTM\n",
    "from keras.layers import Dropout\n",
    "from keras.callbacks import EarlyStopping\n",
    "from sklearn.preprocessing import MinMaxScaler\n",
    "from sklearn.metrics import mean_squared_error"
   ]
  },
  {
   "cell_type": "code",
   "execution_count": 84,
   "id": "e730af0b",
   "metadata": {},
   "outputs": [],
   "source": [
    "from tensorflow.keras.models import Sequential\n",
    "from tensorflow.keras.layers import LSTM\n",
    "from tensorflow.keras.layers import Dense, Dropout\n",
    "import seaborn as sns"
   ]
  },
  {
   "cell_type": "markdown",
   "id": "f3ffed1f",
   "metadata": {},
   "source": [
    "# Load data"
   ]
  },
  {
   "cell_type": "code",
   "execution_count": 85,
   "id": "288d26f7",
   "metadata": {},
   "outputs": [],
   "source": [
    "os.getcwd()\n",
    "\n",
    "csv_path = os.path.join('..', 'inflation-forecasting', 'raw_data')\n",
    "\n",
    "df = pd.read_csv(os.path.join(csv_path,'data_final.csv'), index_col=0)"
   ]
  },
  {
   "cell_type": "code",
   "execution_count": 86,
   "id": "086b15ae",
   "metadata": {},
   "outputs": [],
   "source": [
    "df_us = df[df['country_id'] == \"USA\"]\n",
    "df_de = df[df['country_id'] == \"DE\"]\n",
    "df_nl = df[df['country_id'] == \"NL\"]\n",
    "df_it = df[df['country_id'] == \"IT\"]\n",
    "df_fr = df[df['country_id'] == \"FR\"]\n",
    "df_es = df[df['country_id'] == \"ES\"]"
   ]
  },
  {
   "cell_type": "code",
   "execution_count": 87,
   "id": "714ebc83",
   "metadata": {},
   "outputs": [],
   "source": [
    "df_us = df_us.dropna()"
   ]
  },
  {
   "cell_type": "code",
   "execution_count": 88,
   "id": "eb3817cb",
   "metadata": {},
   "outputs": [
    {
     "data": {
      "text/plain": [
       "Index(['year', 'cpi', 'ccpi', 'indprod', 'unemp', 'intrate', 'm3', 'oil_price',\n",
       "       'country_id', 'country'],\n",
       "      dtype='object')"
      ]
     },
     "execution_count": 88,
     "metadata": {},
     "output_type": "execute_result"
    }
   ],
   "source": [
    "df_us.columns"
   ]
  },
  {
   "cell_type": "code",
   "execution_count": 89,
   "id": "75d2c708",
   "metadata": {},
   "outputs": [],
   "source": [
    "train_dates = pd.to_datetime(df_us['year'])\n",
    "\n",
    "cols = list(df_us)[2:7]\n",
    "\n",
    "df_for_training = df_us[cols].astype(float)"
   ]
  },
  {
   "cell_type": "code",
   "execution_count": 90,
   "id": "1d967136",
   "metadata": {},
   "outputs": [
    {
     "data": {
      "text/html": [
       "<div>\n",
       "<style scoped>\n",
       "    .dataframe tbody tr th:only-of-type {\n",
       "        vertical-align: middle;\n",
       "    }\n",
       "\n",
       "    .dataframe tbody tr th {\n",
       "        vertical-align: top;\n",
       "    }\n",
       "\n",
       "    .dataframe thead th {\n",
       "        text-align: right;\n",
       "    }\n",
       "</style>\n",
       "<table border=\"1\" class=\"dataframe\">\n",
       "  <thead>\n",
       "    <tr style=\"text-align: right;\">\n",
       "      <th></th>\n",
       "      <th>ccpi</th>\n",
       "      <th>indprod</th>\n",
       "      <th>unemp</th>\n",
       "      <th>intrate</th>\n",
       "      <th>m3</th>\n",
       "    </tr>\n",
       "  </thead>\n",
       "  <tbody>\n",
       "    <tr>\n",
       "      <th>12</th>\n",
       "      <td>0.98361</td>\n",
       "      <td>-8.45377</td>\n",
       "      <td>6.6</td>\n",
       "      <td>1.45</td>\n",
       "      <td>5.33199</td>\n",
       "    </tr>\n",
       "    <tr>\n",
       "      <th>13</th>\n",
       "      <td>0.65359</td>\n",
       "      <td>-7.74411</td>\n",
       "      <td>6.9</td>\n",
       "      <td>2.54</td>\n",
       "      <td>6.06568</td>\n",
       "    </tr>\n",
       "    <tr>\n",
       "      <th>14</th>\n",
       "      <td>0.98039</td>\n",
       "      <td>-6.34204</td>\n",
       "      <td>6.9</td>\n",
       "      <td>2.02</td>\n",
       "      <td>6.34815</td>\n",
       "    </tr>\n",
       "    <tr>\n",
       "      <th>15</th>\n",
       "      <td>0.98039</td>\n",
       "      <td>-3.65304</td>\n",
       "      <td>7.0</td>\n",
       "      <td>1.49</td>\n",
       "      <td>6.59780</td>\n",
       "    </tr>\n",
       "    <tr>\n",
       "      <th>16</th>\n",
       "      <td>0.98039</td>\n",
       "      <td>-2.05700</td>\n",
       "      <td>7.1</td>\n",
       "      <td>1.98</td>\n",
       "      <td>7.07876</td>\n",
       "    </tr>\n",
       "    <tr>\n",
       "      <th>...</th>\n",
       "      <td>...</td>\n",
       "      <td>...</td>\n",
       "      <td>...</td>\n",
       "      <td>...</td>\n",
       "      <td>...</td>\n",
       "    </tr>\n",
       "    <tr>\n",
       "      <th>751</th>\n",
       "      <td>6.30050</td>\n",
       "      <td>3.50338</td>\n",
       "      <td>3.7</td>\n",
       "      <td>2.33</td>\n",
       "      <td>3.82332</td>\n",
       "    </tr>\n",
       "    <tr>\n",
       "      <th>752</th>\n",
       "      <td>6.64296</td>\n",
       "      <td>4.73131</td>\n",
       "      <td>3.5</td>\n",
       "      <td>2.56</td>\n",
       "      <td>2.56370</td>\n",
       "    </tr>\n",
       "    <tr>\n",
       "      <th>753</th>\n",
       "      <td>6.30176</td>\n",
       "      <td>3.18912</td>\n",
       "      <td>3.7</td>\n",
       "      <td>3.08</td>\n",
       "      <td>1.28501</td>\n",
       "    </tr>\n",
       "    <tr>\n",
       "      <th>754</th>\n",
       "      <td>5.97198</td>\n",
       "      <td>1.98468</td>\n",
       "      <td>3.6</td>\n",
       "      <td>3.78</td>\n",
       "      <td>0.02623</td>\n",
       "    </tr>\n",
       "    <tr>\n",
       "      <th>755</th>\n",
       "      <td>5.70386</td>\n",
       "      <td>1.14673</td>\n",
       "      <td>3.5</td>\n",
       "      <td>4.10</td>\n",
       "      <td>-1.31457</td>\n",
       "    </tr>\n",
       "  </tbody>\n",
       "</table>\n",
       "<p>744 rows × 5 columns</p>\n",
       "</div>"
      ],
      "text/plain": [
       "        ccpi  indprod  unemp  intrate       m3\n",
       "12   0.98361 -8.45377    6.6     1.45  5.33199\n",
       "13   0.65359 -7.74411    6.9     2.54  6.06568\n",
       "14   0.98039 -6.34204    6.9     2.02  6.34815\n",
       "15   0.98039 -3.65304    7.0     1.49  6.59780\n",
       "16   0.98039 -2.05700    7.1     1.98  7.07876\n",
       "..       ...      ...    ...      ...      ...\n",
       "751  6.30050  3.50338    3.7     2.33  3.82332\n",
       "752  6.64296  4.73131    3.5     2.56  2.56370\n",
       "753  6.30176  3.18912    3.7     3.08  1.28501\n",
       "754  5.97198  1.98468    3.6     3.78  0.02623\n",
       "755  5.70386  1.14673    3.5     4.10 -1.31457\n",
       "\n",
       "[744 rows x 5 columns]"
      ]
     },
     "execution_count": 90,
     "metadata": {},
     "output_type": "execute_result"
    }
   ],
   "source": [
    "df_for_training"
   ]
  },
  {
   "cell_type": "code",
   "execution_count": 136,
   "id": "c5e721ad",
   "metadata": {},
   "outputs": [],
   "source": [
    "scaler = MinMaxScaler(feature_range=(0, 1))\n",
    "scaler = scaler.fit(df_for_training)\n",
    "df_for_training_scaled = scaler.transform(df_for_training)"
   ]
  },
  {
   "cell_type": "code",
   "execution_count": 137,
   "id": "268ee478",
   "metadata": {},
   "outputs": [],
   "source": [
    "trainX = []\n",
    "trainY = []\n",
    "\n",
    "n_future = 1   \n",
    "n_past = 12"
   ]
  },
  {
   "cell_type": "code",
   "execution_count": 138,
   "id": "104f40b4",
   "metadata": {},
   "outputs": [
    {
     "name": "stdout",
     "output_type": "stream",
     "text": [
      "trainX shape == (732, 12, 5).\n",
      "trainY shape == (732, 1).\n"
     ]
    }
   ],
   "source": [
    "for i in range(n_past, len(df_for_training_scaled) - n_future +1):\n",
    "    trainX.append(df_for_training_scaled[i - n_past:i, 0:df_for_training.shape[1]])\n",
    "    trainY.append(df_for_training_scaled[i + n_future - 1:i + n_future, 0])\n",
    "\n",
    "trainX, trainY = np.array(trainX), np.array(trainY)\n",
    "\n",
    "print('trainX shape == {}.'.format(trainX.shape))\n",
    "print('trainY shape == {}.'.format(trainY.shape))"
   ]
  },
  {
   "cell_type": "code",
   "execution_count": 139,
   "id": "7fc2d95b",
   "metadata": {},
   "outputs": [
    {
     "name": "stdout",
     "output_type": "stream",
     "text": [
      "Model: \"sequential_3\"\n",
      "_________________________________________________________________\n",
      " Layer (type)                Output Shape              Param #   \n",
      "=================================================================\n",
      " lstm_6 (LSTM)               (None, 12, 64)            17920     \n",
      "                                                                 \n",
      " lstm_7 (LSTM)               (None, 32)                12416     \n",
      "                                                                 \n",
      " dropout_3 (Dropout)         (None, 32)                0         \n",
      "                                                                 \n",
      " dense_3 (Dense)             (None, 1)                 33        \n",
      "                                                                 \n",
      "=================================================================\n",
      "Total params: 30,369\n",
      "Trainable params: 30,369\n",
      "Non-trainable params: 0\n",
      "_________________________________________________________________\n"
     ]
    }
   ],
   "source": [
    "model = Sequential()\n",
    "model.add(LSTM(64, activation='relu', input_shape=(trainX.shape[1], trainX.shape[2]), return_sequences=True))\n",
    "model.add(LSTM(32, activation='relu', return_sequences=False))\n",
    "model.add(Dropout(0.2))\n",
    "model.add(Dense(trainY.shape[1]))\n",
    "\n",
    "model.compile(optimizer='adam', loss='mse')\n",
    "model.summary()"
   ]
  },
  {
   "cell_type": "code",
   "execution_count": 140,
   "id": "bade4dfb",
   "metadata": {},
   "outputs": [
    {
     "name": "stdout",
     "output_type": "stream",
     "text": [
      "Epoch 1/5\n",
      "42/42 [==============================] - 2s 14ms/step - loss: 0.0338 - val_loss: 0.0125\n",
      "Epoch 2/5\n",
      "42/42 [==============================] - 0s 9ms/step - loss: 0.0120 - val_loss: 0.0082\n",
      "Epoch 3/5\n",
      "42/42 [==============================] - 0s 8ms/step - loss: 0.0067 - val_loss: 0.0082\n",
      "Epoch 4/5\n",
      "42/42 [==============================] - 0s 8ms/step - loss: 0.0057 - val_loss: 0.0103\n",
      "Epoch 5/5\n",
      "42/42 [==============================] - 0s 8ms/step - loss: 0.0062 - val_loss: 0.0093\n"
     ]
    },
    {
     "data": {
      "text/plain": [
       "<matplotlib.legend.Legend at 0x7fc44b647ca0>"
      ]
     },
     "execution_count": 140,
     "metadata": {},
     "output_type": "execute_result"
    },
    {
     "data": {
      "image/png": "[encoded data removed]",
      "text/plain": [
       "<Figure size 640x480 with 1 Axes>"
      ]
     },
     "metadata": {},
     "output_type": "display_data"
    }
   ],
   "source": [
    "history = model.fit(trainX, trainY, epochs=5, batch_size=16, validation_split=0.1, verbose=1)\n",
    "\n",
    "plt.plot(history.history['loss'], label='Training loss')\n",
    "plt.plot(history.history['val_loss'], label='Validation loss')\n",
    "plt.legend()"
   ]
  },
  {
   "cell_type": "code",
   "execution_count": 141,
   "id": "5d784e80",
   "metadata": {},
   "outputs": [
    {
     "name": "stdout",
     "output_type": "stream",
     "text": [
      "23/23 [==============================] - 0s 4ms/step\n"
     ]
    },
    {
     "ename": "ValueError",
     "evalue": "non-broadcastable output operand with shape (732,1) doesn't match the broadcast shape (732,5)",
     "output_type": "error",
     "traceback": [
      "\u001b[0;31m---------------------------------------------------------------------------\u001b[0m",
      "\u001b[0;31mValueError\u001b[0m                                Traceback (most recent call last)",
      "Cell \u001b[0;32mIn[141], line 3\u001b[0m\n\u001b[1;32m      1\u001b[0m Predict \u001b[38;5;241m=\u001b[39m model\u001b[38;5;241m.\u001b[39mpredict(trainX)\n\u001b[0;32m----> 3\u001b[0m Y_hat \u001b[38;5;241m=\u001b[39m \u001b[43mscaler\u001b[49m\u001b[38;5;241;43m.\u001b[39;49m\u001b[43minverse_transform\u001b[49m\u001b[43m(\u001b[49m\u001b[43mPredict\u001b[49m\u001b[43m)\u001b[49m\n\u001b[1;32m      5\u001b[0m Y_actual \u001b[38;5;241m=\u001b[39m trainY\n",
      "File \u001b[0;32m~/.pyenv/versions/3.10.6/envs/inflation_forecasting/lib/python3.10/site-packages/sklearn/preprocessing/_data.py:541\u001b[0m, in \u001b[0;36mMinMaxScaler.inverse_transform\u001b[0;34m(self, X)\u001b[0m\n\u001b[1;32m    535\u001b[0m check_is_fitted(\u001b[38;5;28mself\u001b[39m)\n\u001b[1;32m    537\u001b[0m X \u001b[38;5;241m=\u001b[39m check_array(\n\u001b[1;32m    538\u001b[0m     X, copy\u001b[38;5;241m=\u001b[39m\u001b[38;5;28mself\u001b[39m\u001b[38;5;241m.\u001b[39mcopy, dtype\u001b[38;5;241m=\u001b[39mFLOAT_DTYPES, force_all_finite\u001b[38;5;241m=\u001b[39m\u001b[38;5;124m\"\u001b[39m\u001b[38;5;124mallow-nan\u001b[39m\u001b[38;5;124m\"\u001b[39m\n\u001b[1;32m    539\u001b[0m )\n\u001b[0;32m--> 541\u001b[0m X \u001b[38;5;241m-\u001b[39m\u001b[38;5;241m=\u001b[39m \u001b[38;5;28mself\u001b[39m\u001b[38;5;241m.\u001b[39mmin_\n\u001b[1;32m    542\u001b[0m X \u001b[38;5;241m/\u001b[39m\u001b[38;5;241m=\u001b[39m \u001b[38;5;28mself\u001b[39m\u001b[38;5;241m.\u001b[39mscale_\n\u001b[1;32m    543\u001b[0m \u001b[38;5;28;01mreturn\u001b[39;00m X\n",
      "\u001b[0;31mValueError\u001b[0m: non-broadcastable output operand with shape (732,1) doesn't match the broadcast shape (732,5)"
     ]
    }
   ],
   "source": [
    "Predict = model.predict(trainX)\n",
    "\n",
    "Y_hat = scaler.inverse_transform(Predict)\n",
    "\n",
    "Y_actual = trainY"
   ]
  },
  {
   "cell_type": "code",
   "execution_count": 132,
   "id": "696831c1",
   "metadata": {},
   "outputs": [
    {
     "data": {
      "text/html": [
       "<div>\n",
       "<style scoped>\n",
       "    .dataframe tbody tr th:only-of-type {\n",
       "        vertical-align: middle;\n",
       "    }\n",
       "\n",
       "    .dataframe tbody tr th {\n",
       "        vertical-align: top;\n",
       "    }\n",
       "\n",
       "    .dataframe thead th {\n",
       "        text-align: right;\n",
       "    }\n",
       "</style>\n",
       "<table border=\"1\" class=\"dataframe\">\n",
       "  <thead>\n",
       "    <tr style=\"text-align: right;\">\n",
       "      <th></th>\n",
       "      <th>year</th>\n",
       "      <th>Forecast</th>\n",
       "    </tr>\n",
       "  </thead>\n",
       "  <tbody>\n",
       "    <tr>\n",
       "      <th>0</th>\n",
       "      <td>2014-09-01</td>\n",
       "      <td>1.779948</td>\n",
       "    </tr>\n",
       "    <tr>\n",
       "      <th>1</th>\n",
       "      <td>2014-10-01</td>\n",
       "      <td>1.779835</td>\n",
       "    </tr>\n",
       "    <tr>\n",
       "      <th>2</th>\n",
       "      <td>2014-11-01</td>\n",
       "      <td>1.783011</td>\n",
       "    </tr>\n",
       "    <tr>\n",
       "      <th>3</th>\n",
       "      <td>2014-12-01</td>\n",
       "      <td>1.784288</td>\n",
       "    </tr>\n",
       "    <tr>\n",
       "      <th>4</th>\n",
       "      <td>2015-01-01</td>\n",
       "      <td>1.780608</td>\n",
       "    </tr>\n",
       "    <tr>\n",
       "      <th>...</th>\n",
       "      <td>...</td>\n",
       "      <td>...</td>\n",
       "    </tr>\n",
       "    <tr>\n",
       "      <th>95</th>\n",
       "      <td>2022-08-01</td>\n",
       "      <td>5.369874</td>\n",
       "    </tr>\n",
       "    <tr>\n",
       "      <th>96</th>\n",
       "      <td>2022-09-01</td>\n",
       "      <td>5.633718</td>\n",
       "    </tr>\n",
       "    <tr>\n",
       "      <th>97</th>\n",
       "      <td>2022-10-01</td>\n",
       "      <td>5.917395</td>\n",
       "    </tr>\n",
       "    <tr>\n",
       "      <th>98</th>\n",
       "      <td>2022-11-01</td>\n",
       "      <td>6.145093</td>\n",
       "    </tr>\n",
       "    <tr>\n",
       "      <th>99</th>\n",
       "      <td>2022-12-01</td>\n",
       "      <td>6.319354</td>\n",
       "    </tr>\n",
       "  </tbody>\n",
       "</table>\n",
       "<p>100 rows × 2 columns</p>\n",
       "</div>"
      ],
      "text/plain": [
       "         year  Forecast\n",
       "0  2014-09-01  1.779948\n",
       "1  2014-10-01  1.779835\n",
       "2  2014-11-01  1.783011\n",
       "3  2014-12-01  1.784288\n",
       "4  2015-01-01  1.780608\n",
       "..        ...       ...\n",
       "95 2022-08-01  5.369874\n",
       "96 2022-09-01  5.633718\n",
       "97 2022-10-01  5.917395\n",
       "98 2022-11-01  6.145093\n",
       "99 2022-12-01  6.319354\n",
       "\n",
       "[100 rows x 2 columns]"
      ]
     },
     "execution_count": 132,
     "metadata": {},
     "output_type": "execute_result"
    }
   ],
   "source": [
    "df_forecast"
   ]
  },
  {
   "cell_type": "code",
   "execution_count": 133,
   "id": "5b243bee",
   "metadata": {},
   "outputs": [
    {
     "data": {
      "text/plain": [
       "[<matplotlib.lines.Line2D at 0x7fc44b866170>]"
      ]
     },
     "execution_count": 133,
     "metadata": {},
     "output_type": "execute_result"
    },
    {
     "data": {
      "image/png": "[encoded data removed]",
      "text/plain": [
       "<Figure size 640x480 with 1 Axes>"
      ]
     },
     "metadata": {},
     "output_type": "display_data"
    }
   ],
   "source": [
    "df_forecast = pd.DataFrame({'year':np.array(forecast_dates), 'Forecast':y_pred_future})\n",
    "df_forecast['year']=pd.to_datetime(df_forecast['year'])\n",
    "\n",
    "original = df_us[['year', 'ccpi']]\n",
    "original['year']=pd.to_datetime(original['year'])\n",
    "original = original.loc[original['year'] >= '2015-1-1']\n",
    "\n",
    "plt.plot(original['year'], original['ccpi'])\n",
    "plt.plot(df_forecast['year'], df_forecast['Forecast'])"
   ]
  },
  {
   "cell_type": "code",
   "execution_count": 118,
   "id": "6c2acb51",
   "metadata": {},
   "outputs": [
    {
     "data": {
      "text/plain": [
       "660    1.63163\n",
       "661    1.68808\n",
       "662    1.74538\n",
       "663    1.80283\n",
       "664    1.75094\n",
       "        ...   \n",
       "751    6.30050\n",
       "752    6.64296\n",
       "753    6.30176\n",
       "754    5.97198\n",
       "755    5.70386\n",
       "Name: ccpi, Length: 96, dtype: float64"
      ]
     },
     "execution_count": 118,
     "metadata": {},
     "output_type": "execute_result"
    }
   ],
   "source": [
    "original['ccpi']"
   ]
  },
  {
   "cell_type": "code",
   "execution_count": null,
   "id": "4457367f",
   "metadata": {},
   "outputs": [],
   "source": []
  },
  {
   "cell_type": "code",
   "execution_count": null,
   "id": "f38024b8",
   "metadata": {},
   "outputs": [],
   "source": []
  },
  {
   "cell_type": "code",
   "execution_count": null,
   "id": "9a8f22c9",
   "metadata": {},
   "outputs": [],
   "source": []
  }
 ],
 "metadata": {
  "kernelspec": {
   "display_name": "Python 3 (ipykernel)",
   "language": "python",
   "name": "python3"
  },
  "language_info": {
   "codemirror_mode": {
    "name": "ipython",
    "version": 3
   },
   "file_extension": ".py",
   "mimetype": "text/x-python",
   "name": "python",
   "nbconvert_exporter": "python",
   "pygments_lexer": "ipython3",
   "version": "3.10.6"
  },
  "toc": {
   "base_numbering": 1,
   "nav_menu": {},
   "number_sections": true,
   "sideBar": true,
   "skip_h1_title": false,
   "title_cell": "Table of Contents",
   "title_sidebar": "Contents",
   "toc_cell": false,
   "toc_position": {},
   "toc_section_display": true,
   "toc_window_display": false
  }
 },
 "nbformat": 4,
 "nbformat_minor": 5
}
