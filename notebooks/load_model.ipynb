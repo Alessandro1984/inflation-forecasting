{
 "cells": [
  {
   "cell_type": "markdown",
   "id": "86ae4b1f",
   "metadata": {},
   "source": [
    "# Load packages"
   ]
  },
  {
   "cell_type": "code",
   "execution_count": 4,
   "id": "cf802a39",
   "metadata": {},
   "outputs": [],
   "source": [
    "from tensorflow.keras.models import load_model\n",
    "from sklearn.preprocessing import MinMaxScaler\n",
    "import matplotlib.pyplot as plt\n",
    "import numpy as np\n",
    "import pandas as pd\n",
    "import os"
   ]
  },
  {
   "cell_type": "markdown",
   "id": "d427641f",
   "metadata": {},
   "source": [
    "# Load data"
   ]
  },
  {
   "cell_type": "code",
   "execution_count": 5,
   "id": "25526262",
   "metadata": {},
   "outputs": [],
   "source": [
    "os.getcwd()\n",
    "\n",
    "csv_path = os.path.join('..', 'inflation-forecasting', 'raw_data')\n",
    "\n",
    "df = pd.read_csv(os.path.join(csv_path,'data_final.csv'), index_col=0)"
   ]
  },
  {
   "cell_type": "markdown",
   "id": "64815f02",
   "metadata": {},
   "source": [
    "# Select data for the US"
   ]
  },
  {
   "cell_type": "code",
   "execution_count": 6,
   "id": "fff4bfa4",
   "metadata": {},
   "outputs": [],
   "source": [
    "df_us = df[df['country_id'] == \"USA\"]"
   ]
  },
  {
   "cell_type": "code",
   "execution_count": 7,
   "id": "912914e6",
   "metadata": {},
   "outputs": [],
   "source": [
    "ccpi = pd.DataFrame(df_us['ccpi'])"
   ]
  },
  {
   "cell_type": "code",
   "execution_count": 8,
   "id": "a8f7cc03",
   "metadata": {},
   "outputs": [],
   "source": [
    "ccpi = ccpi.to_numpy()"
   ]
  },
  {
   "cell_type": "markdown",
   "id": "22b82bc6",
   "metadata": {},
   "source": [
    "# Load the model for the US"
   ]
  },
  {
   "cell_type": "code",
   "execution_count": 9,
   "id": "fd4fd7fd",
   "metadata": {},
   "outputs": [
    {
     "name": "stderr",
     "output_type": "stream",
     "text": [
      "2023-03-11 19:36:02.217944: W tensorflow/compiler/xla/stream_executor/platform/default/dso_loader.cc:64] Could not load dynamic library 'libcuda.so.1'; dlerror: libcuda.so.1: cannot open shared object file: No such file or directory\n",
      "2023-03-11 19:36:02.218008: W tensorflow/compiler/xla/stream_executor/cuda/cuda_driver.cc:265] failed call to cuInit: UNKNOWN ERROR (303)\n",
      "2023-03-11 19:36:02.218042: I tensorflow/compiler/xla/stream_executor/cuda/cuda_diagnostics.cc:156] kernel driver does not appear to be running on this host (AlessandroLaptop): /proc/driver/nvidia/version does not exist\n",
      "2023-03-11 19:36:02.219391: I tensorflow/core/platform/cpu_feature_guard.cc:193] This TensorFlow binary is optimized with oneAPI Deep Neural Network Library (oneDNN) to use the following CPU instructions in performance-critical operations:  AVX2 AVX512F AVX512_VNNI FMA\n",
      "To enable them in other operations, rebuild TensorFlow with the appropriate compiler flags.\n"
     ]
    },
    {
     "name": "stdout",
     "output_type": "stream",
     "text": [
      "Model: \"sequential_5\"\n",
      "_________________________________________________________________\n",
      " Layer (type)                Output Shape              Param #   \n",
      "=================================================================\n",
      " lstm_5 (LSTM)               (None, 64)                16896     \n",
      "                                                                 \n",
      " dense_5 (Dense)             (None, 1)                 65        \n",
      "                                                                 \n",
      "=================================================================\n",
      "Total params: 16,961\n",
      "Trainable params: 16,961\n",
      "Non-trainable params: 0\n",
      "_________________________________________________________________\n"
     ]
    }
   ],
   "source": [
    "model = load_model(\"model_usa.h5\")\n",
    "model.summary()"
   ]
  },
  {
   "cell_type": "markdown",
   "id": "a08494f2",
   "metadata": {},
   "source": [
    "# Preprocess the data"
   ]
  },
  {
   "cell_type": "code",
   "execution_count": 13,
   "id": "d1f7339e",
   "metadata": {},
   "outputs": [],
   "source": [
    "scaler = MinMaxScaler(feature_range = (0, 1))\n",
    "dataset = scaler.fit_transform(ccpi.reshape(-1,1))"
   ]
  },
  {
   "cell_type": "markdown",
   "id": "fa5e55b8",
   "metadata": {},
   "source": [
    "# Split X and Y into sequences"
   ]
  },
  {
   "cell_type": "code",
   "execution_count": 14,
   "id": "3dbd4c0c",
   "metadata": {},
   "outputs": [],
   "source": [
    "# split a univariate sequence into samples\n",
    "def split_sequence(sequence, n_steps):\n",
    "    X, y = list(), list()\n",
    "    for i in range(len(sequence)):\n",
    "        # find the end of this pattern\n",
    "        end_ix = i + n_steps\n",
    "        # check if we are beyond the sequence\n",
    "        if end_ix > len(sequence)-1:\n",
    "            break\n",
    "        # gather input and output parts of the pattern\n",
    "        seq_x, seq_y = sequence[i:end_ix], sequence[end_ix]\n",
    "        X.append(seq_x)\n",
    "        y.append(seq_y)\n",
    "    return np.array(X), np.array(y)"
   ]
  },
  {
   "cell_type": "markdown",
   "id": "422691d4",
   "metadata": {},
   "source": [
    "# Define steps, features and split data"
   ]
  },
  {
   "cell_type": "code",
   "execution_count": 15,
   "id": "21ab2d9b",
   "metadata": {},
   "outputs": [],
   "source": [
    "n_steps_in = 12\n",
    "\n",
    "n_features = 1\n",
    "\n",
    "data = dataset[0:]\n",
    "\n",
    "X, Y = split_sequence(data, n_steps_in)"
   ]
  },
  {
   "cell_type": "markdown",
   "id": "4e242474",
   "metadata": {},
   "source": [
    "# Predict and inverse-transform the data"
   ]
  },
  {
   "cell_type": "code",
   "execution_count": 16,
   "id": "76a5836f",
   "metadata": {},
   "outputs": [
    {
     "name": "stdout",
     "output_type": "stream",
     "text": [
      "24/24 [==============================] - 0s 3ms/step\n"
     ]
    }
   ],
   "source": [
    "forecast = model.predict(X)\n",
    "\n",
    "Y_hat = scaler.inverse_transform(forecast)\n",
    "\n",
    "Y_actual = scaler.inverse_transform(Y)"
   ]
  },
  {
   "cell_type": "markdown",
   "id": "2e557c93",
   "metadata": {},
   "source": [
    "# Plot the data"
   ]
  },
  {
   "cell_type": "code",
   "execution_count": 17,
   "id": "82506e63",
   "metadata": {},
   "outputs": [],
   "source": [
    "data1 = pd.DataFrame(forecast)\n",
    "data2 = pd.DataFrame(Y)"
   ]
  },
  {
   "cell_type": "code",
   "execution_count": 18,
   "id": "222377b9",
   "metadata": {},
   "outputs": [
    {
     "data": {
      "image/png": "[encoded data removed]",
      "text/plain": [
       "<Figure size 640x480 with 1 Axes>"
      ]
     },
     "metadata": {},
     "output_type": "display_data"
    }
   ],
   "source": [
    "plt.plot(data1)\n",
    "plt.plot(data2);"
   ]
  },
  {
   "cell_type": "markdown",
   "id": "3bf563e4",
   "metadata": {},
   "source": [
    "# Define the forecasting function"
   ]
  },
  {
   "cell_type": "code",
   "execution_count": 19,
   "id": "c01fbc99",
   "metadata": {},
   "outputs": [],
   "source": [
    "def future_forecasting(dataset, model, mb=12, mf=12):\n",
    "    '''\n",
    "    Returns the future forecasting of the model. Please select the dataset and model you want to use.\n",
    "    for mb, select the number of months you want to look back to make a prediction. \n",
    "    for mf, select the number of months you want the prediction to look forward.\n",
    "    '''\n",
    "    results = []\n",
    "    x_input = dataset[-mb:].reshape(1, mb, 1)\n",
    "    for num in range(mf):\n",
    "        forecast = model.predict(x_input)\n",
    "        results.append(forecast[0][0])\n",
    "        x_input = np.roll(x_input, -1, axis=1)\n",
    "        x_input[0][-1] = forecast\n",
    "    results = scaler.inverse_transform(np.array(results).reshape(-1, 1)) # reshape dataset to 2D array\n",
    "    results = np.array(results).reshape(-1, 1) \n",
    "    return results"
   ]
  },
  {
   "cell_type": "markdown",
   "id": "9227ee81",
   "metadata": {},
   "source": [
    "# Make the forecast for future months (mf)"
   ]
  },
  {
   "cell_type": "code",
   "execution_count": 20,
   "id": "41e7471c",
   "metadata": {},
   "outputs": [
    {
     "name": "stdout",
     "output_type": "stream",
     "text": [
      "1/1 [==============================] - 0s 14ms/step\n",
      "1/1 [==============================] - 0s 14ms/step\n",
      "1/1 [==============================] - 0s 14ms/step\n",
      "1/1 [==============================] - 0s 14ms/step\n",
      "1/1 [==============================] - 0s 14ms/step\n",
      "1/1 [==============================] - 0s 14ms/step\n",
      "1/1 [==============================] - 0s 14ms/step\n",
      "1/1 [==============================] - 0s 14ms/step\n",
      "1/1 [==============================] - 0s 14ms/step\n",
      "1/1 [==============================] - 0s 15ms/step\n",
      "1/1 [==============================] - 0s 15ms/step\n",
      "1/1 [==============================] - 0s 15ms/step\n"
     ]
    }
   ],
   "source": [
    "ccpi = ccpi.to_numpy()\n",
    "scaler = MinMaxScaler(feature_range = (0, 1))\n",
    "dataset = scaler.fit_transform(ccpi.reshape(-1,1))\n",
    "\n",
    "inf_for_us = future_forecasting(dataset = dataset, \n",
    "                                model = model, \n",
    "                                mb = 12, \n",
    "                                mf = 12)"
   ]
  },
  {
   "cell_type": "markdown",
   "id": "265a2ffa",
   "metadata": {},
   "source": [
    "# Plot of the forecast"
   ]
  },
  {
   "cell_type": "code",
   "execution_count": 22,
   "id": "eb69711e",
   "metadata": {},
   "outputs": [
    {
     "data": {
      "image/png": "[encoded data removed]",
      "text/plain": [
       "<Figure size 640x480 with 1 Axes>"
      ]
     },
     "metadata": {},
     "output_type": "display_data"
    }
   ],
   "source": [
    "pd.DataFrame(inf_for).plot();"
   ]
  }
 ],
 "metadata": {
  "kernelspec": {
   "display_name": "Python 3 (ipykernel)",
   "language": "python",
   "name": "python3"
  },
  "language_info": {
   "codemirror_mode": {
    "name": "ipython",
    "version": 3
   },
   "file_extension": ".py",
   "mimetype": "text/x-python",
   "name": "python",
   "nbconvert_exporter": "python",
   "pygments_lexer": "ipython3",
   "version": "3.10.6"
  },
  "toc": {
   "base_numbering": 1,
   "nav_menu": {},
   "number_sections": true,
   "sideBar": true,
   "skip_h1_title": false,
   "title_cell": "Table of Contents",
   "title_sidebar": "Contents",
   "toc_cell": false,
   "toc_position": {},
   "toc_section_display": true,
   "toc_window_display": false
  }
 },
 "nbformat": 4,
 "nbformat_minor": 5
}
