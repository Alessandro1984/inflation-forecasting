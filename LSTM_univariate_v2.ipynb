{
 "cells": [
  {
   "cell_type": "code",
   "execution_count": 2,
   "id": "aaa0d328",
   "metadata": {},
   "outputs": [],
   "source": [
    "# Data manipulation\n",
    "import numpy as np\n",
    "import pandas as pd\n",
    "pd.set_option(\"display.max_columns\", None)\n",
    "\n",
    "# Data Visualiation\n",
    "import matplotlib.pyplot as plt\n",
    "import seaborn as sns\n",
    "\n",
    "# System\n",
    "import os\n",
    "import warnings\n",
    "warnings.filterwarnings('ignore')\n",
    "\n",
    "# Deep Learning\n",
    "import tensorflow as tf\n",
    "\n",
    "# Dealing with temporal data\n",
    "from typing import Dict, List, Tuple, Sequence\n",
    "\n",
    "# Tensorflow\n",
    "from tensorflow.keras import models\n",
    "from tensorflow.keras import layers\n",
    "from tensorflow.keras import optimizers, metrics\n",
    "from tensorflow.keras.regularizers import L1L2\n",
    "from tensorflow.keras.layers.experimental.preprocessing import Normalization\n",
    "from tensorflow.keras.models import Sequential\n",
    "from keras.layers import Dense\n",
    "from keras.layers import LSTM\n",
    "from keras.layers import Dropout\n",
    "from keras.callbacks import EarlyStopping"
   ]
  },
  {
   "cell_type": "code",
   "execution_count": 3,
   "id": "20967ea2",
   "metadata": {},
   "outputs": [],
   "source": [
    "os.getcwd()\n",
    "\n",
    "csv_path = os.path.join('..', 'inflation-forecasting', 'raw_data')\n",
    "\n",
    "df = pd.read_csv(os.path.join(csv_path,'data_final.csv'), index_col=0)"
   ]
  },
  {
   "cell_type": "code",
   "execution_count": 4,
   "id": "3cd936f7",
   "metadata": {},
   "outputs": [],
   "source": [
    "df['year'] = pd.to_datetime(df['year'])"
   ]
  },
  {
   "cell_type": "code",
   "execution_count": 5,
   "id": "cfe94c29",
   "metadata": {},
   "outputs": [],
   "source": [
    "df_us = df[df['country_id'] == \"USA\"]"
   ]
  },
  {
   "cell_type": "code",
   "execution_count": 6,
   "id": "a1d3bcb8",
   "metadata": {},
   "outputs": [
    {
     "data": {
      "text/plain": [
       "(757, 10)"
      ]
     },
     "execution_count": 6,
     "metadata": {},
     "output_type": "execute_result"
    }
   ],
   "source": [
    "df_us.shape"
   ]
  },
  {
   "cell_type": "code",
   "execution_count": 7,
   "id": "dac04284",
   "metadata": {},
   "outputs": [],
   "source": [
    "ccpi = pd.DataFrame(df_us['ccpi'])"
   ]
  },
  {
   "cell_type": "code",
   "execution_count": 8,
   "id": "ed24fc87",
   "metadata": {},
   "outputs": [],
   "source": [
    "ccpi = ccpi.to_numpy()"
   ]
  },
  {
   "cell_type": "code",
   "execution_count": 9,
   "id": "12ee2b7b",
   "metadata": {},
   "outputs": [],
   "source": [
    "from sklearn.preprocessing import MinMaxScaler\n",
    "scaler = MinMaxScaler(feature_range=(0, 1))\n",
    "dataset = scaler.fit_transform(ccpi.reshape(-1,1))"
   ]
  },
  {
   "cell_type": "code",
   "execution_count": 10,
   "id": "e94ebf62",
   "metadata": {},
   "outputs": [],
   "source": [
    "def split_sequence(sequence, n_steps):\n",
    "    X, y = list(), list()\n",
    "    for i in range(len(sequence)):\n",
    "        # find the end of this pattern\n",
    "        end_ix = i + n_steps\n",
    "        # check if we are beyond the sequence\n",
    "        if end_ix > len(sequence)-1:\n",
    "            break\n",
    "        # gather input and output parts of the pattern\n",
    "        seq_x, seq_y = sequence[i:end_ix], sequence[end_ix]\n",
    "        X.append(seq_x)\n",
    "        y.append(seq_y)\n",
    "    return np.array(X), np.array(y)"
   ]
  },
  {
   "cell_type": "code",
   "execution_count": 11,
   "id": "c94fbdc9",
   "metadata": {},
   "outputs": [],
   "source": [
    "n_steps_in = 12\n",
    "\n",
    "data = dataset[0:]\n",
    "\n",
    "X, Y = split_sequence(data, n_steps_in)"
   ]
  },
  {
   "cell_type": "code",
   "execution_count": 12,
   "id": "e466bc3c",
   "metadata": {},
   "outputs": [
    {
     "data": {
      "text/plain": [
       "(745, 12, 1)"
      ]
     },
     "execution_count": 12,
     "metadata": {},
     "output_type": "execute_result"
    }
   ],
   "source": [
    "X.shape"
   ]
  },
  {
   "cell_type": "code",
   "execution_count": 13,
   "id": "836ea610",
   "metadata": {},
   "outputs": [],
   "source": [
    "n_features = X.shape[2]\n",
    "\n",
    "uni_model = models.Sequential()\n",
    "uni_model.add(LSTM(64, input_shape=(X.shape[1], n_features))) # Adding the LSTM layer\n",
    "uni_model.add(Dense(1))"
   ]
  },
  {
   "cell_type": "code",
   "execution_count": 14,
   "id": "fe739f84",
   "metadata": {},
   "outputs": [],
   "source": [
    "adam = optimizers.Adam(learning_rate=0.02) \n",
    "\n",
    "uni_model.compile(loss='mse', \n",
    "                  optimizer=adam, \n",
    "                  metrics=[\"mse\"])"
   ]
  },
  {
   "cell_type": "code",
   "execution_count": 15,
   "id": "e2664b32",
   "metadata": {},
   "outputs": [
    {
     "name": "stdout",
     "output_type": "stream",
     "text": [
      "Epoch 1/25\n"
     ]
    },
    {
     "name": "stderr",
     "output_type": "stream",
     "text": [
      "2023-03-10 14:56:21.287199: W tensorflow/core/platform/profile_utils/cpu_utils.cc:128] Failed to get CPU frequency: 0 Hz\n"
     ]
    },
    {
     "name": "stdout",
     "output_type": "stream",
     "text": [
      "745/745 [==============================] - 2s 1ms/step - loss: 0.0031 - mse: 0.0031\n",
      "Epoch 2/25\n",
      "745/745 [==============================] - 1s 1ms/step - loss: 8.6916e-04 - mse: 8.6916e-04\n",
      "Epoch 3/25\n",
      "745/745 [==============================] - 1s 1ms/step - loss: 0.0031 - mse: 0.0031\n",
      "Epoch 4/25\n",
      "745/745 [==============================] - 1s 1ms/step - loss: 9.6440e-04 - mse: 9.6440e-04\n",
      "Epoch 5/25\n",
      "745/745 [==============================] - 1s 1ms/step - loss: 9.8314e-04 - mse: 9.8314e-04\n",
      "Epoch 6/25\n",
      "745/745 [==============================] - 1s 1ms/step - loss: 9.2536e-04 - mse: 9.2536e-04\n",
      "Epoch 7/25\n",
      "745/745 [==============================] - 1s 1ms/step - loss: 8.4049e-04 - mse: 8.4049e-04\n",
      "Epoch 8/25\n",
      "745/745 [==============================] - 1s 1ms/step - loss: 9.2796e-04 - mse: 9.2796e-04\n",
      "Epoch 9/25\n",
      "745/745 [==============================] - 1s 1ms/step - loss: 9.5080e-04 - mse: 9.5080e-04\n",
      "Epoch 10/25\n",
      "745/745 [==============================] - 1s 1ms/step - loss: 0.0011 - mse: 0.0011\n",
      "Epoch 11/25\n",
      "745/745 [==============================] - 1s 1ms/step - loss: 8.9657e-04 - mse: 8.9657e-04\n",
      "Epoch 12/25\n",
      "745/745 [==============================] - 1s 1ms/step - loss: 8.3417e-04 - mse: 8.3417e-04\n",
      "Epoch 13/25\n",
      "745/745 [==============================] - 1s 1ms/step - loss: 9.7402e-04 - mse: 9.7402e-04\n",
      "Epoch 14/25\n",
      "745/745 [==============================] - 1s 1ms/step - loss: 6.9856e-04 - mse: 6.9856e-04\n",
      "Epoch 15/25\n",
      "745/745 [==============================] - 1s 1ms/step - loss: 8.0887e-04 - mse: 8.0887e-04\n",
      "Epoch 16/25\n",
      "745/745 [==============================] - 1s 1ms/step - loss: 8.2227e-04 - mse: 8.2227e-04\n",
      "Epoch 17/25\n",
      "745/745 [==============================] - 1s 1ms/step - loss: 6.3181e-04 - mse: 6.3181e-04\n",
      "Epoch 18/25\n",
      "745/745 [==============================] - 1s 1ms/step - loss: 6.9549e-04 - mse: 6.9549e-04\n",
      "Epoch 19/25\n",
      "745/745 [==============================] - 1s 1ms/step - loss: 7.4191e-04 - mse: 7.4191e-04\n",
      "Epoch 20/25\n",
      "745/745 [==============================] - 1s 1ms/step - loss: 8.9583e-04 - mse: 8.9583e-04\n",
      "Epoch 21/25\n",
      "745/745 [==============================] - 1s 1ms/step - loss: 7.0841e-04 - mse: 7.0841e-04\n",
      "Epoch 22/25\n",
      "745/745 [==============================] - 1s 1ms/step - loss: 6.9370e-04 - mse: 6.9370e-04\n",
      "Epoch 23/25\n",
      "745/745 [==============================] - 1s 1ms/step - loss: 6.7590e-04 - mse: 6.7590e-04\n",
      "Epoch 24/25\n",
      "745/745 [==============================] - 1s 1ms/step - loss: 7.1150e-04 - mse: 7.1150e-04\n",
      "Epoch 25/25\n",
      "745/745 [==============================] - 1s 1ms/step - loss: 6.4940e-04 - mse: 6.4940e-04\n"
     ]
    }
   ],
   "source": [
    "fit = uni_model.fit(X, \n",
    "                    Y,   \n",
    "                    epochs = 25, \n",
    "                    batch_size=1,\n",
    "                    verbose = 1)"
   ]
  },
  {
   "cell_type": "code",
   "execution_count": 16,
   "id": "265b2817",
   "metadata": {},
   "outputs": [
    {
     "data": {
      "text/plain": [
       "<function matplotlib.pyplot.show(close=None, block=None)>"
      ]
     },
     "execution_count": 16,
     "metadata": {},
     "output_type": "execute_result"
    },
    {
     "data": {
      "image/png": "[encoded data removed]",
      "text/plain": [
       "<Figure size 640x480 with 1 Axes>"
      ]
     },
     "metadata": {},
     "output_type": "display_data"
    }
   ],
   "source": [
    "# Check for overfitting\n",
    "plt.plot(fit.history['loss'], label = 'training', color = 'Blue')\n",
    "#plt.plot(fit.history['val_loss'], label = 'validation', color = 'Red')\n",
    "plt.legend()\n",
    "plt.show"
   ]
  },
  {
   "cell_type": "code",
   "execution_count": 17,
   "id": "bc8ed2ed",
   "metadata": {},
   "outputs": [
    {
     "data": {
      "text/plain": [
       "(745, 12, 1)"
      ]
     },
     "execution_count": 17,
     "metadata": {},
     "output_type": "execute_result"
    }
   ],
   "source": [
    "X.shape"
   ]
  },
  {
   "cell_type": "code",
   "execution_count": 18,
   "id": "ac952659",
   "metadata": {},
   "outputs": [
    {
     "name": "stdout",
     "output_type": "stream",
     "text": [
      "24/24 [==============================] - 0s 1ms/step\n"
     ]
    }
   ],
   "source": [
    "Predict = uni_model.predict(X)\n",
    "\n",
    "Y_hat = scaler.inverse_transform(Predict)\n",
    "\n",
    "Y_actual = scaler.inverse_transform(Y)\n",
    "\n"
   ]
  },
  {
   "cell_type": "code",
   "execution_count": 19,
   "id": "e9fe2504",
   "metadata": {},
   "outputs": [],
   "source": [
    "data1 = pd.DataFrame(Y_actual)\n",
    "data2 = pd.DataFrame(Y_hat)"
   ]
  },
  {
   "cell_type": "code",
   "execution_count": 20,
   "id": "1e4d9288",
   "metadata": {},
   "outputs": [
    {
     "data": {
      "image/png": "[encoded data removed]",
      "text/plain": [
       "<Figure size 640x480 with 1 Axes>"
      ]
     },
     "metadata": {},
     "output_type": "display_data"
    }
   ],
   "source": [
    "plt.plot(data1)\n",
    "plt.plot(data2);"
   ]
  },
  {
   "cell_type": "code",
   "execution_count": 21,
   "id": "ac1080f7",
   "metadata": {},
   "outputs": [],
   "source": [
    "from sklearn.metrics import mean_squared_error"
   ]
  },
  {
   "cell_type": "code",
   "execution_count": 120,
   "id": "d5a07f30",
   "metadata": {},
   "outputs": [
    {
     "data": {
      "text/plain": [
       "array([[[0.4485397 ],\n",
       "        [0.44991567],\n",
       "        [0.42574742],\n",
       "        [0.41673018],\n",
       "        [0.40626776],\n",
       "        [0.40660464],\n",
       "        [0.4382311 ],\n",
       "        [0.46457059],\n",
       "        [0.43832801],\n",
       "        [0.41296377],\n",
       "        [0.39234197],\n",
       "        [0.38032129]]])"
      ]
     },
     "execution_count": 120,
     "metadata": {},
     "output_type": "execute_result"
    }
   ],
   "source": [
    "x_input"
   ]
  },
  {
   "cell_type": "code",
   "execution_count": 24,
   "id": "72eadc71",
   "metadata": {},
   "outputs": [
    {
     "name": "stdout",
     "output_type": "stream",
     "text": [
      "1/1 [==============================] - 0s 12ms/step\n"
     ]
    }
   ],
   "source": [
    "n_steps_in = 12\n",
    "x_input = np.array(dataset[-12:])\n",
    "x_input = x_input.reshape((1, n_steps_in, n_features))\n",
    "forecast_normalized = uni_model.predict(x_input)\n",
    "forecast = scaler.inverse_transform(forecast_normalized)"
   ]
  },
  {
   "cell_type": "code",
   "execution_count": 25,
   "id": "277c9661",
   "metadata": {},
   "outputs": [
    {
     "data": {
      "text/html": [
       "<div>\n",
       "<style scoped>\n",
       "    .dataframe tbody tr th:only-of-type {\n",
       "        vertical-align: middle;\n",
       "    }\n",
       "\n",
       "    .dataframe tbody tr th {\n",
       "        vertical-align: top;\n",
       "    }\n",
       "\n",
       "    .dataframe thead th {\n",
       "        text-align: right;\n",
       "    }\n",
       "</style>\n",
       "<table border=\"1\" class=\"dataframe\">\n",
       "  <thead>\n",
       "    <tr style=\"text-align: right;\">\n",
       "      <th></th>\n",
       "      <th>0</th>\n",
       "    </tr>\n",
       "  </thead>\n",
       "  <tbody>\n",
       "    <tr>\n",
       "      <th>0</th>\n",
       "      <td>5.360623</td>\n",
       "    </tr>\n",
       "  </tbody>\n",
       "</table>\n",
       "</div>"
      ],
      "text/plain": [
       "          0\n",
       "0  5.360623"
      ]
     },
     "execution_count": 25,
     "metadata": {},
     "output_type": "execute_result"
    }
   ],
   "source": [
    "pd.DataFrame(forecast)"
   ]
  },
  {
   "cell_type": "code",
   "execution_count": 26,
   "id": "e54d0141",
   "metadata": {},
   "outputs": [],
   "source": [
    "# Make a prediction\n",
    "# Append the predition\n",
    "# Shift the data\n",
    "# Fit the model again\n",
    "# Repeat ...\n",
    "# Normalize invert"
   ]
  },
  {
   "cell_type": "code",
   "execution_count": 150,
   "id": "e1dddb4b",
   "metadata": {},
   "outputs": [],
   "source": [
    "def future_forecasting(dataset, model, mf=12, mb=12):\n",
    "    '''\n",
    "    Returns the future forecasting of the model. Please select the dataset and model you want to use.\n",
    "    for mb, select the number of months you want to look back to make a prediction. \n",
    "    for mf, select the number of months you want the prediction to look forward.\n",
    "    '''\n",
    "    results = []\n",
    "    x_input = dataset[-mb:].reshape(1, mb, 1)\n",
    "    for num in range(mf):\n",
    "        forecast = model.predict(x_input)\n",
    "        results.append(forecast[0][0])\n",
    "        x_input = np.roll(x_input, -1, axis=1)\n",
    "        x_input[0][-1] = forecast\n",
    "    results = scaler.inverse_transform(np.array(results).reshape(-1, 1)) # reshape dataset to 2D array\n",
    "    return results\n"
   ]
  },
  {
   "cell_type": "code",
   "execution_count": 152,
   "id": "7bedbf86",
   "metadata": {
    "scrolled": false
   },
   "outputs": [
    {
     "name": "stdout",
     "output_type": "stream",
     "text": [
      "1/1 [==============================] - 0s 13ms/step\n",
      "1/1 [==============================] - 0s 10ms/step\n",
      "1/1 [==============================] - 0s 8ms/step\n",
      "1/1 [==============================] - 0s 8ms/step\n",
      "1/1 [==============================] - 0s 9ms/step\n",
      "1/1 [==============================] - 0s 8ms/step\n",
      "1/1 [==============================] - 0s 7ms/step\n",
      "1/1 [==============================] - 0s 8ms/step\n",
      "1/1 [==============================] - 0s 9ms/step\n",
      "1/1 [==============================] - 0s 7ms/step\n",
      "1/1 [==============================] - 0s 8ms/step\n",
      "1/1 [==============================] - 0s 9ms/step\n"
     ]
    },
    {
     "data": {
      "text/plain": [
       "array([[5.3606234],\n",
       "       [5.1792707],\n",
       "       [4.9906373],\n",
       "       [4.805794 ],\n",
       "       [4.627566 ],\n",
       "       [4.4569674],\n",
       "       [4.29448  ],\n",
       "       [4.140395 ],\n",
       "       [3.994776 ],\n",
       "       [3.8574877],\n",
       "       [3.728312 ],\n",
       "       [3.606995 ]], dtype=float32)"
      ]
     },
     "execution_count": 152,
     "metadata": {},
     "output_type": "execute_result"
    }
   ],
   "source": [
    "test = future_forecasting(dataset,uni_model,mf=12, mb=12)\n",
    "test"
   ]
  },
  {
   "cell_type": "code",
   "execution_count": 145,
   "id": "1a30f664",
   "metadata": {},
   "outputs": [
    {
     "data": {
      "text/plain": [
       "757"
      ]
     },
     "execution_count": 145,
     "metadata": {},
     "output_type": "execute_result"
    }
   ],
   "source": [
    "len(dataset)"
   ]
  },
  {
   "cell_type": "code",
   "execution_count": null,
   "id": "b101563d",
   "metadata": {},
   "outputs": [],
   "source": []
  }
 ],
 "metadata": {
  "kernelspec": {
   "display_name": "Python 3 (ipykernel)",
   "language": "python",
   "name": "python3"
  },
  "language_info": {
   "codemirror_mode": {
    "name": "ipython",
    "version": 3
   },
   "file_extension": ".py",
   "mimetype": "text/x-python",
   "name": "python",
   "nbconvert_exporter": "python",
   "pygments_lexer": "ipython3",
   "version": "3.10.6"
  },
  "toc": {
   "base_numbering": 1,
   "nav_menu": {},
   "number_sections": true,
   "sideBar": true,
   "skip_h1_title": false,
   "title_cell": "Table of Contents",
   "title_sidebar": "Contents",
   "toc_cell": false,
   "toc_position": {},
   "toc_section_display": true,
   "toc_window_display": false
  }
 },
 "nbformat": 4,
 "nbformat_minor": 5
}
